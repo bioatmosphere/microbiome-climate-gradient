{
 "cells": [
  {
   "cell_type": "markdown",
   "metadata": {},
   "source": [
    "### Derive litter chemistry inputs for each of the five sites across the climate gradient\n",
    "\n",
    "By Bin Wang (@bioatmo_sphere)|wbwenwu@gmail.com\n",
    "\n",
    "---\n",
    "\n",
    "**Methods**:\n",
    "1. Get chemical composition of litter based on the grassland site, and assume the same chemcial composition\n",
    "2. Derive litter inputs for each of the 5 sites with field measurements of litter chemistry at each site (Baker and Allison 2017 SBB)\n",
    "3. NOTE: in each site the total amounts of litter are the same except for the proportions of varying compounds."
   ]
  },
  {
   "cell_type": "code",
   "execution_count": 1,
   "metadata": {},
   "outputs": [
    {
     "name": "stdout",
     "output_type": "stream",
     "text": [
      "Pandas: 0.25.3\n",
      "Numpy: 1.18.2\n"
     ]
    }
   ],
   "source": [
    "import pandas as pd\n",
    "import numpy  as np\n",
    "\n",
    "print('Pandas:',pd.__version__)\n",
    "print('Numpy:', np.__version__)"
   ]
  },
  {
   "cell_type": "markdown",
   "metadata": {},
   "source": [
    "## 1. Grassland site litter input used in Allison and Goulden (2017) & Wang and Allison (2020)"
   ]
  },
  {
   "cell_type": "code",
   "execution_count": 2,
   "metadata": {},
   "outputs": [
    {
     "data": {
      "text/html": [
       "<div>\n",
       "<style scoped>\n",
       "    .dataframe tbody tr th:only-of-type {\n",
       "        vertical-align: middle;\n",
       "    }\n",
       "\n",
       "    .dataframe tbody tr th {\n",
       "        vertical-align: top;\n",
       "    }\n",
       "\n",
       "    .dataframe thead th {\n",
       "        text-align: right;\n",
       "    }\n",
       "</style>\n",
       "<table border=\"1\" class=\"dataframe\">\n",
       "  <thead>\n",
       "    <tr style=\"text-align: right;\">\n",
       "      <th></th>\n",
       "      <th>C</th>\n",
       "      <th>N</th>\n",
       "      <th>P</th>\n",
       "    </tr>\n",
       "  </thead>\n",
       "  <tbody>\n",
       "    <tr>\n",
       "      <th>DeadMic</th>\n",
       "      <td>0.0000</td>\n",
       "      <td>0.00000</td>\n",
       "      <td>0.000000</td>\n",
       "    </tr>\n",
       "    <tr>\n",
       "      <th>DeadEnz</th>\n",
       "      <td>0.0000</td>\n",
       "      <td>0.00000</td>\n",
       "      <td>0.000000</td>\n",
       "    </tr>\n",
       "    <tr>\n",
       "      <th>Cellulose</th>\n",
       "      <td>146.8900</td>\n",
       "      <td>0.00000</td>\n",
       "      <td>0.000000</td>\n",
       "    </tr>\n",
       "    <tr>\n",
       "      <th>Hemicellulose</th>\n",
       "      <td>85.8550</td>\n",
       "      <td>0.00000</td>\n",
       "      <td>0.000000</td>\n",
       "    </tr>\n",
       "    <tr>\n",
       "      <th>Starch</th>\n",
       "      <td>12.2100</td>\n",
       "      <td>0.00000</td>\n",
       "      <td>0.000000</td>\n",
       "    </tr>\n",
       "    <tr>\n",
       "      <th>Chitin</th>\n",
       "      <td>4.9952</td>\n",
       "      <td>0.83254</td>\n",
       "      <td>0.000000</td>\n",
       "    </tr>\n",
       "    <tr>\n",
       "      <th>Lignin</th>\n",
       "      <td>48.5100</td>\n",
       "      <td>0.40425</td>\n",
       "      <td>0.000000</td>\n",
       "    </tr>\n",
       "    <tr>\n",
       "      <th>Protein1</th>\n",
       "      <td>10.6000</td>\n",
       "      <td>2.09704</td>\n",
       "      <td>0.000000</td>\n",
       "    </tr>\n",
       "    <tr>\n",
       "      <th>Protein2</th>\n",
       "      <td>10.6000</td>\n",
       "      <td>2.09704</td>\n",
       "      <td>0.000000</td>\n",
       "    </tr>\n",
       "    <tr>\n",
       "      <th>Protein3</th>\n",
       "      <td>10.6000</td>\n",
       "      <td>2.09704</td>\n",
       "      <td>0.000000</td>\n",
       "    </tr>\n",
       "    <tr>\n",
       "      <th>OrgP1</th>\n",
       "      <td>12.4800</td>\n",
       "      <td>0.00000</td>\n",
       "      <td>0.478469</td>\n",
       "    </tr>\n",
       "    <tr>\n",
       "      <th>OrgP2</th>\n",
       "      <td>1.8182</td>\n",
       "      <td>0.79745</td>\n",
       "      <td>0.478469</td>\n",
       "    </tr>\n",
       "  </tbody>\n",
       "</table>\n",
       "</div>"
      ],
      "text/plain": [
       "                      C        N         P\n",
       "DeadMic          0.0000  0.00000  0.000000\n",
       "DeadEnz          0.0000  0.00000  0.000000\n",
       "Cellulose      146.8900  0.00000  0.000000\n",
       "Hemicellulose   85.8550  0.00000  0.000000\n",
       "Starch          12.2100  0.00000  0.000000\n",
       "Chitin           4.9952  0.83254  0.000000\n",
       "Lignin          48.5100  0.40425  0.000000\n",
       "Protein1        10.6000  2.09704  0.000000\n",
       "Protein2        10.6000  2.09704  0.000000\n",
       "Protein3        10.6000  2.09704  0.000000\n",
       "OrgP1           12.4800  0.00000  0.478469\n",
       "OrgP2            1.8182  0.79745  0.478469"
      ]
     },
     "execution_count": 2,
     "metadata": {},
     "output_type": "execute_result"
    }
   ],
   "source": [
    "grassland_base = pd.read_csv('initial_substrates.csv',index_col=0)\n",
    "grassland_base"
   ]
  },
  {
   "cell_type": "code",
   "execution_count": 3,
   "metadata": {},
   "outputs": [
    {
     "data": {
      "text/html": [
       "<div>\n",
       "<style scoped>\n",
       "    .dataframe tbody tr th:only-of-type {\n",
       "        vertical-align: middle;\n",
       "    }\n",
       "\n",
       "    .dataframe tbody tr th {\n",
       "        vertical-align: top;\n",
       "    }\n",
       "\n",
       "    .dataframe thead th {\n",
       "        text-align: right;\n",
       "    }\n",
       "</style>\n",
       "<table border=\"1\" class=\"dataframe\">\n",
       "  <thead>\n",
       "    <tr style=\"text-align: right;\">\n",
       "      <th></th>\n",
       "      <th>C</th>\n",
       "      <th>N</th>\n",
       "      <th>P</th>\n",
       "    </tr>\n",
       "  </thead>\n",
       "  <tbody>\n",
       "    <tr>\n",
       "      <th>Cellulose</th>\n",
       "      <td>146.8900</td>\n",
       "      <td>0.00000</td>\n",
       "      <td>0.000000</td>\n",
       "    </tr>\n",
       "    <tr>\n",
       "      <th>Hemicellulose</th>\n",
       "      <td>85.8550</td>\n",
       "      <td>0.00000</td>\n",
       "      <td>0.000000</td>\n",
       "    </tr>\n",
       "    <tr>\n",
       "      <th>Starch</th>\n",
       "      <td>12.2100</td>\n",
       "      <td>0.00000</td>\n",
       "      <td>0.000000</td>\n",
       "    </tr>\n",
       "    <tr>\n",
       "      <th>Chitin</th>\n",
       "      <td>4.9952</td>\n",
       "      <td>0.83254</td>\n",
       "      <td>0.000000</td>\n",
       "    </tr>\n",
       "    <tr>\n",
       "      <th>Lignin</th>\n",
       "      <td>48.5100</td>\n",
       "      <td>0.40425</td>\n",
       "      <td>0.000000</td>\n",
       "    </tr>\n",
       "    <tr>\n",
       "      <th>Protein1</th>\n",
       "      <td>10.6000</td>\n",
       "      <td>2.09704</td>\n",
       "      <td>0.000000</td>\n",
       "    </tr>\n",
       "    <tr>\n",
       "      <th>Protein2</th>\n",
       "      <td>10.6000</td>\n",
       "      <td>2.09704</td>\n",
       "      <td>0.000000</td>\n",
       "    </tr>\n",
       "    <tr>\n",
       "      <th>Protein3</th>\n",
       "      <td>10.6000</td>\n",
       "      <td>2.09704</td>\n",
       "      <td>0.000000</td>\n",
       "    </tr>\n",
       "    <tr>\n",
       "      <th>OrgP1</th>\n",
       "      <td>12.4800</td>\n",
       "      <td>0.00000</td>\n",
       "      <td>0.478469</td>\n",
       "    </tr>\n",
       "    <tr>\n",
       "      <th>OrgP2</th>\n",
       "      <td>1.8182</td>\n",
       "      <td>0.79745</td>\n",
       "      <td>0.478469</td>\n",
       "    </tr>\n",
       "  </tbody>\n",
       "</table>\n",
       "</div>"
      ],
      "text/plain": [
       "                      C        N         P\n",
       "Cellulose      146.8900  0.00000  0.000000\n",
       "Hemicellulose   85.8550  0.00000  0.000000\n",
       "Starch          12.2100  0.00000  0.000000\n",
       "Chitin           4.9952  0.83254  0.000000\n",
       "Lignin          48.5100  0.40425  0.000000\n",
       "Protein1        10.6000  2.09704  0.000000\n",
       "Protein2        10.6000  2.09704  0.000000\n",
       "Protein3        10.6000  2.09704  0.000000\n",
       "OrgP1           12.4800  0.00000  0.478469\n",
       "OrgP2            1.8182  0.79745  0.478469"
      ]
     },
     "execution_count": 3,
     "metadata": {},
     "output_type": "execute_result"
    }
   ],
   "source": [
    "grassland_base = grassland_base.iloc[2:,:]\n",
    "grassland_base"
   ]
  },
  {
   "cell_type": "code",
   "execution_count": 4,
   "metadata": {},
   "outputs": [],
   "source": [
    "new_index = ['Cellulose', 'Hemicellulose', 'Chitin', 'Lignin', 'Starch','Protein1','Protein2', 'Protein3', 'OrgP1', 'OrgP2']"
   ]
  },
  {
   "cell_type": "code",
   "execution_count": 5,
   "metadata": {},
   "outputs": [
    {
     "data": {
      "text/html": [
       "<div>\n",
       "<style scoped>\n",
       "    .dataframe tbody tr th:only-of-type {\n",
       "        vertical-align: middle;\n",
       "    }\n",
       "\n",
       "    .dataframe tbody tr th {\n",
       "        vertical-align: top;\n",
       "    }\n",
       "\n",
       "    .dataframe thead th {\n",
       "        text-align: right;\n",
       "    }\n",
       "</style>\n",
       "<table border=\"1\" class=\"dataframe\">\n",
       "  <thead>\n",
       "    <tr style=\"text-align: right;\">\n",
       "      <th></th>\n",
       "      <th>C</th>\n",
       "      <th>N</th>\n",
       "      <th>P</th>\n",
       "    </tr>\n",
       "  </thead>\n",
       "  <tbody>\n",
       "    <tr>\n",
       "      <th>Cellulose</th>\n",
       "      <td>146.8900</td>\n",
       "      <td>0.00000</td>\n",
       "      <td>0.000000</td>\n",
       "    </tr>\n",
       "    <tr>\n",
       "      <th>Hemicellulose</th>\n",
       "      <td>85.8550</td>\n",
       "      <td>0.00000</td>\n",
       "      <td>0.000000</td>\n",
       "    </tr>\n",
       "    <tr>\n",
       "      <th>Chitin</th>\n",
       "      <td>4.9952</td>\n",
       "      <td>0.83254</td>\n",
       "      <td>0.000000</td>\n",
       "    </tr>\n",
       "    <tr>\n",
       "      <th>Lignin</th>\n",
       "      <td>48.5100</td>\n",
       "      <td>0.40425</td>\n",
       "      <td>0.000000</td>\n",
       "    </tr>\n",
       "    <tr>\n",
       "      <th>Starch</th>\n",
       "      <td>12.2100</td>\n",
       "      <td>0.00000</td>\n",
       "      <td>0.000000</td>\n",
       "    </tr>\n",
       "    <tr>\n",
       "      <th>Protein1</th>\n",
       "      <td>10.6000</td>\n",
       "      <td>2.09704</td>\n",
       "      <td>0.000000</td>\n",
       "    </tr>\n",
       "    <tr>\n",
       "      <th>Protein2</th>\n",
       "      <td>10.6000</td>\n",
       "      <td>2.09704</td>\n",
       "      <td>0.000000</td>\n",
       "    </tr>\n",
       "    <tr>\n",
       "      <th>Protein3</th>\n",
       "      <td>10.6000</td>\n",
       "      <td>2.09704</td>\n",
       "      <td>0.000000</td>\n",
       "    </tr>\n",
       "    <tr>\n",
       "      <th>OrgP1</th>\n",
       "      <td>12.4800</td>\n",
       "      <td>0.00000</td>\n",
       "      <td>0.478469</td>\n",
       "    </tr>\n",
       "    <tr>\n",
       "      <th>OrgP2</th>\n",
       "      <td>1.8182</td>\n",
       "      <td>0.79745</td>\n",
       "      <td>0.478469</td>\n",
       "    </tr>\n",
       "  </tbody>\n",
       "</table>\n",
       "</div>"
      ],
      "text/plain": [
       "                      C        N         P\n",
       "Cellulose      146.8900  0.00000  0.000000\n",
       "Hemicellulose   85.8550  0.00000  0.000000\n",
       "Chitin           4.9952  0.83254  0.000000\n",
       "Lignin          48.5100  0.40425  0.000000\n",
       "Starch          12.2100  0.00000  0.000000\n",
       "Protein1        10.6000  2.09704  0.000000\n",
       "Protein2        10.6000  2.09704  0.000000\n",
       "Protein3        10.6000  2.09704  0.000000\n",
       "OrgP1           12.4800  0.00000  0.478469\n",
       "OrgP2            1.8182  0.79745  0.478469"
      ]
     },
     "execution_count": 5,
     "metadata": {},
     "output_type": "execute_result"
    }
   ],
   "source": [
    "grassland_base = grassland_base.loc[new_index,:]\n",
    "grassland_base"
   ]
  },
  {
   "cell_type": "code",
   "execution_count": 6,
   "metadata": {},
   "outputs": [
    {
     "name": "stdout",
     "output_type": "stream",
     "text": [
      "C_percent = 0.9737670142172284\n",
      "N_percent = 0.02352855408396238\n",
      "C_N_ratio = 41.386606705295634\n"
     ]
    }
   ],
   "source": [
    "C_percent = sum(grassland_base['C'])/grassland_base.sum().sum()\n",
    "N_percent = sum(grassland_base['N'])/grassland_base.sum().sum()\n",
    "C_N_ratio = sum(grassland_base['C'])/sum(grassland_base['N'])\n",
    "print('C_percent =',C_percent)\n",
    "print('N_percent =',N_percent)\n",
    "print('C_N_ratio =',C_N_ratio)"
   ]
  },
  {
   "cell_type": "code",
   "execution_count": 7,
   "metadata": {},
   "outputs": [
    {
     "data": {
      "text/html": [
       "<div>\n",
       "<style scoped>\n",
       "    .dataframe tbody tr th:only-of-type {\n",
       "        vertical-align: middle;\n",
       "    }\n",
       "\n",
       "    .dataframe tbody tr th {\n",
       "        vertical-align: top;\n",
       "    }\n",
       "\n",
       "    .dataframe thead th {\n",
       "        text-align: right;\n",
       "    }\n",
       "</style>\n",
       "<table border=\"1\" class=\"dataframe\">\n",
       "  <thead>\n",
       "    <tr style=\"text-align: right;\">\n",
       "      <th></th>\n",
       "      <th>C</th>\n",
       "      <th>N</th>\n",
       "      <th>P</th>\n",
       "      <th>total</th>\n",
       "      <th>percent</th>\n",
       "    </tr>\n",
       "  </thead>\n",
       "  <tbody>\n",
       "    <tr>\n",
       "      <th>Cellulose</th>\n",
       "      <td>146.8900</td>\n",
       "      <td>0.00000</td>\n",
       "      <td>0.000000</td>\n",
       "      <td>146.890000</td>\n",
       "      <td>41.513031</td>\n",
       "    </tr>\n",
       "    <tr>\n",
       "      <th>Hemicellulose</th>\n",
       "      <td>85.8550</td>\n",
       "      <td>0.00000</td>\n",
       "      <td>0.000000</td>\n",
       "      <td>85.855000</td>\n",
       "      <td>24.263744</td>\n",
       "    </tr>\n",
       "    <tr>\n",
       "      <th>Chitin</th>\n",
       "      <td>4.9952</td>\n",
       "      <td>0.83254</td>\n",
       "      <td>0.000000</td>\n",
       "      <td>5.827740</td>\n",
       "      <td>1.646995</td>\n",
       "    </tr>\n",
       "    <tr>\n",
       "      <th>Lignin</th>\n",
       "      <td>48.5100</td>\n",
       "      <td>0.40425</td>\n",
       "      <td>0.000000</td>\n",
       "      <td>48.914250</td>\n",
       "      <td>13.823806</td>\n",
       "    </tr>\n",
       "    <tr>\n",
       "      <th>Starch</th>\n",
       "      <td>12.2100</td>\n",
       "      <td>0.00000</td>\n",
       "      <td>0.000000</td>\n",
       "      <td>12.210000</td>\n",
       "      <td>3.450705</td>\n",
       "    </tr>\n",
       "    <tr>\n",
       "      <th>Protein1</th>\n",
       "      <td>10.6000</td>\n",
       "      <td>2.09704</td>\n",
       "      <td>0.000000</td>\n",
       "      <td>12.697040</td>\n",
       "      <td>3.588349</td>\n",
       "    </tr>\n",
       "    <tr>\n",
       "      <th>Protein2</th>\n",
       "      <td>10.6000</td>\n",
       "      <td>2.09704</td>\n",
       "      <td>0.000000</td>\n",
       "      <td>12.697040</td>\n",
       "      <td>3.588349</td>\n",
       "    </tr>\n",
       "    <tr>\n",
       "      <th>Protein3</th>\n",
       "      <td>10.6000</td>\n",
       "      <td>2.09704</td>\n",
       "      <td>0.000000</td>\n",
       "      <td>12.697040</td>\n",
       "      <td>3.588349</td>\n",
       "    </tr>\n",
       "    <tr>\n",
       "      <th>OrgP1</th>\n",
       "      <td>12.4800</td>\n",
       "      <td>0.00000</td>\n",
       "      <td>0.478469</td>\n",
       "      <td>12.958469</td>\n",
       "      <td>3.662232</td>\n",
       "    </tr>\n",
       "    <tr>\n",
       "      <th>OrgP2</th>\n",
       "      <td>1.8182</td>\n",
       "      <td>0.79745</td>\n",
       "      <td>0.478469</td>\n",
       "      <td>3.094119</td>\n",
       "      <td>0.874438</td>\n",
       "    </tr>\n",
       "  </tbody>\n",
       "</table>\n",
       "</div>"
      ],
      "text/plain": [
       "                      C        N         P       total    percent\n",
       "Cellulose      146.8900  0.00000  0.000000  146.890000  41.513031\n",
       "Hemicellulose   85.8550  0.00000  0.000000   85.855000  24.263744\n",
       "Chitin           4.9952  0.83254  0.000000    5.827740   1.646995\n",
       "Lignin          48.5100  0.40425  0.000000   48.914250  13.823806\n",
       "Starch          12.2100  0.00000  0.000000   12.210000   3.450705\n",
       "Protein1        10.6000  2.09704  0.000000   12.697040   3.588349\n",
       "Protein2        10.6000  2.09704  0.000000   12.697040   3.588349\n",
       "Protein3        10.6000  2.09704  0.000000   12.697040   3.588349\n",
       "OrgP1           12.4800  0.00000  0.478469   12.958469   3.662232\n",
       "OrgP2            1.8182  0.79745  0.478469    3.094119   0.874438"
      ]
     },
     "execution_count": 7,
     "metadata": {},
     "output_type": "execute_result"
    }
   ],
   "source": [
    "grassland0 = grassland_base.copy()\n",
    "grassland0.loc[:,'total'] = grassland0.sum(axis=1)\n",
    "grassland0.loc[:,'percent'] = 100*grassland0['total']/sum(grassland0['total'])\n",
    "grassland0"
   ]
  },
  {
   "cell_type": "markdown",
   "metadata": {},
   "source": [
    "#### Substrates' stochiometry"
   ]
  },
  {
   "cell_type": "code",
   "execution_count": 8,
   "metadata": {},
   "outputs": [
    {
     "data": {
      "text/html": [
       "<div>\n",
       "<style scoped>\n",
       "    .dataframe tbody tr th:only-of-type {\n",
       "        vertical-align: middle;\n",
       "    }\n",
       "\n",
       "    .dataframe tbody tr th {\n",
       "        vertical-align: top;\n",
       "    }\n",
       "\n",
       "    .dataframe thead th {\n",
       "        text-align: right;\n",
       "    }\n",
       "</style>\n",
       "<table border=\"1\" class=\"dataframe\">\n",
       "  <thead>\n",
       "    <tr style=\"text-align: right;\">\n",
       "      <th></th>\n",
       "      <th>C</th>\n",
       "      <th>N</th>\n",
       "      <th>P</th>\n",
       "    </tr>\n",
       "  </thead>\n",
       "  <tbody>\n",
       "    <tr>\n",
       "      <th>Cellulose</th>\n",
       "      <td>1.000000</td>\n",
       "      <td>0.000000</td>\n",
       "      <td>0.000000</td>\n",
       "    </tr>\n",
       "    <tr>\n",
       "      <th>Hemicellulose</th>\n",
       "      <td>1.000000</td>\n",
       "      <td>0.000000</td>\n",
       "      <td>0.000000</td>\n",
       "    </tr>\n",
       "    <tr>\n",
       "      <th>Chitin</th>\n",
       "      <td>0.857142</td>\n",
       "      <td>0.142858</td>\n",
       "      <td>0.000000</td>\n",
       "    </tr>\n",
       "    <tr>\n",
       "      <th>Lignin</th>\n",
       "      <td>0.991736</td>\n",
       "      <td>0.008264</td>\n",
       "      <td>0.000000</td>\n",
       "    </tr>\n",
       "    <tr>\n",
       "      <th>Starch</th>\n",
       "      <td>1.000000</td>\n",
       "      <td>0.000000</td>\n",
       "      <td>0.000000</td>\n",
       "    </tr>\n",
       "    <tr>\n",
       "      <th>Protein1</th>\n",
       "      <td>0.834840</td>\n",
       "      <td>0.165160</td>\n",
       "      <td>0.000000</td>\n",
       "    </tr>\n",
       "    <tr>\n",
       "      <th>Protein2</th>\n",
       "      <td>0.834840</td>\n",
       "      <td>0.165160</td>\n",
       "      <td>0.000000</td>\n",
       "    </tr>\n",
       "    <tr>\n",
       "      <th>Protein3</th>\n",
       "      <td>0.834840</td>\n",
       "      <td>0.165160</td>\n",
       "      <td>0.000000</td>\n",
       "    </tr>\n",
       "    <tr>\n",
       "      <th>OrgP1</th>\n",
       "      <td>0.963077</td>\n",
       "      <td>0.000000</td>\n",
       "      <td>0.036923</td>\n",
       "    </tr>\n",
       "    <tr>\n",
       "      <th>OrgP2</th>\n",
       "      <td>0.587631</td>\n",
       "      <td>0.257731</td>\n",
       "      <td>0.154638</td>\n",
       "    </tr>\n",
       "  </tbody>\n",
       "</table>\n",
       "</div>"
      ],
      "text/plain": [
       "                      C         N         P\n",
       "Cellulose      1.000000  0.000000  0.000000\n",
       "Hemicellulose  1.000000  0.000000  0.000000\n",
       "Chitin         0.857142  0.142858  0.000000\n",
       "Lignin         0.991736  0.008264  0.000000\n",
       "Starch         1.000000  0.000000  0.000000\n",
       "Protein1       0.834840  0.165160  0.000000\n",
       "Protein2       0.834840  0.165160  0.000000\n",
       "Protein3       0.834840  0.165160  0.000000\n",
       "OrgP1          0.963077  0.000000  0.036923\n",
       "OrgP2          0.587631  0.257731  0.154638"
      ]
     },
     "execution_count": 8,
     "metadata": {},
     "output_type": "execute_result"
    }
   ],
   "source": [
    "ratio = grassland_base.divide(grassland0['total'],axis=0)\n",
    "ratio"
   ]
  },
  {
   "cell_type": "markdown",
   "metadata": {},
   "source": [
    "### Proportion of Chitin, OrgP1, and OrgP2  in Structural Carbohydrates"
   ]
  },
  {
   "cell_type": "code",
   "execution_count": 9,
   "metadata": {},
   "outputs": [
    {
     "data": {
      "text/plain": [
       "Cellulose        41.513031\n",
       "Hemicellulose    24.263744\n",
       "Chitin            1.646995\n",
       "Lignin           13.823806\n",
       "Starch            3.450705\n",
       "Protein1          3.588349\n",
       "Protein2          3.588349\n",
       "Protein3          3.588349\n",
       "OrgP1             3.662232\n",
       "OrgP2             0.874438\n",
       "Name: percent, dtype: float64"
      ]
     },
     "execution_count": 9,
     "metadata": {},
     "output_type": "execute_result"
    }
   ],
   "source": [
    "grass_per = grassland0.percent\n",
    "grass_per"
   ]
  },
  {
   "cell_type": "code",
   "execution_count": 10,
   "metadata": {},
   "outputs": [
    {
     "data": {
      "text/plain": [
       "0.2663460986508063"
      ]
     },
     "execution_count": 10,
     "metadata": {},
     "output_type": "execute_result"
    }
   ],
   "source": [
    "Chitin = grass_per.Chitin/(grass_per.Chitin + grass_per.OrgP1 + grass_per.OrgP2)\n",
    "Chitin"
   ]
  },
  {
   "cell_type": "code",
   "execution_count": 11,
   "metadata": {},
   "outputs": [
    {
     "data": {
      "text/plain": [
       "0.5922429042197174"
      ]
     },
     "execution_count": 11,
     "metadata": {},
     "output_type": "execute_result"
    }
   ],
   "source": [
    "OrgP1 = grass_per.OrgP1/(grass_per.Chitin + grass_per.OrgP1 + grass_per.OrgP2)\n",
    "OrgP1"
   ]
  },
  {
   "cell_type": "code",
   "execution_count": 12,
   "metadata": {},
   "outputs": [
    {
     "data": {
      "text/plain": [
       "0.14141099712947627"
      ]
     },
     "execution_count": 12,
     "metadata": {},
     "output_type": "execute_result"
    }
   ],
   "source": [
    "OrgP2 = grass_per.OrgP2/(grass_per.Chitin + grass_per.OrgP1 + grass_per.OrgP2)\n",
    "OrgP2"
   ]
  },
  {
   "cell_type": "markdown",
   "metadata": {},
   "source": [
    "### Total Litter Input ($T_{i}$)\n",
    "\n",
    "**Scale $T_{i}$ to other sites** based on field observation of litter amount"
   ]
  },
  {
   "cell_type": "code",
   "execution_count": 13,
   "metadata": {},
   "outputs": [
    {
     "data": {
      "text/plain": [
       "353.840698"
      ]
     },
     "execution_count": 13,
     "metadata": {},
     "output_type": "execute_result"
    }
   ],
   "source": [
    "T_grassland = sum(grassland0['total'])\n",
    "T_grassland"
   ]
  },
  {
   "cell_type": "markdown",
   "metadata": {},
   "source": [
    "## 2. Derive litter Input for each of the five sites"
   ]
  },
  {
   "cell_type": "markdown",
   "metadata": {},
   "source": [
    "## `Grassland`"
   ]
  },
  {
   "cell_type": "code",
   "execution_count": 14,
   "metadata": {},
   "outputs": [
    {
     "data": {
      "text/plain": [
       "Cellulose        36.150000\n",
       "Hemicellulose    12.300000\n",
       "Chitin            3.449182\n",
       "Lignin           11.150000\n",
       "Starch            6.950000\n",
       "Protein1          4.733333\n",
       "Protein2          4.733333\n",
       "Protein3          4.733333\n",
       "OrgP1             7.669546\n",
       "OrgP2             1.831272\n",
       "dtype: float64"
      ]
     },
     "execution_count": 14,
     "metadata": {},
     "output_type": "execute_result"
    }
   ],
   "source": [
    "grassland_per = pd.Series(\n",
    "    data = [(36.3+36.)/2, (16.+8.6)/2,Chitin*(13.3+12.6)/2, (8.+14.3)/2, (8.8+5.1)/2,\n",
    "           (1/3)*(11.9+16.5)/2, (1/3)*(11.9+16.5)/2,(1/3)*(11.9+16.5)/2,\n",
    "           OrgP1*(13.3+12.6)/2,OrgP2*(13.3+12.6)/2],\n",
    "    index=new_index\n",
    ")\n",
    "grassland_per"
   ]
  },
  {
   "cell_type": "code",
   "execution_count": 15,
   "metadata": {},
   "outputs": [
    {
     "data": {
      "text/plain": [
       "93.7"
      ]
     },
     "execution_count": 15,
     "metadata": {},
     "output_type": "execute_result"
    }
   ],
   "source": [
    "sum(grassland_per)"
   ]
  },
  {
   "cell_type": "code",
   "execution_count": 16,
   "metadata": {},
   "outputs": [
    {
     "data": {
      "text/plain": [
       "353.840698"
      ]
     },
     "execution_count": 16,
     "metadata": {},
     "output_type": "execute_result"
    }
   ],
   "source": [
    "T_grassland"
   ]
  },
  {
   "cell_type": "code",
   "execution_count": 17,
   "metadata": {},
   "outputs": [
    {
     "data": {
      "text/html": [
       "<div>\n",
       "<style scoped>\n",
       "    .dataframe tbody tr th:only-of-type {\n",
       "        vertical-align: middle;\n",
       "    }\n",
       "\n",
       "    .dataframe tbody tr th {\n",
       "        vertical-align: top;\n",
       "    }\n",
       "\n",
       "    .dataframe thead th {\n",
       "        text-align: right;\n",
       "    }\n",
       "</style>\n",
       "<table border=\"1\" class=\"dataframe\">\n",
       "  <thead>\n",
       "    <tr style=\"text-align: right;\">\n",
       "      <th></th>\n",
       "      <th>C</th>\n",
       "      <th>N</th>\n",
       "      <th>P</th>\n",
       "    </tr>\n",
       "  </thead>\n",
       "  <tbody>\n",
       "    <tr>\n",
       "      <th>Cellulose</th>\n",
       "      <td>127.913412</td>\n",
       "      <td>0.000000</td>\n",
       "      <td>0.000000</td>\n",
       "    </tr>\n",
       "    <tr>\n",
       "      <th>Hemicellulose</th>\n",
       "      <td>43.522406</td>\n",
       "      <td>0.000000</td>\n",
       "      <td>0.000000</td>\n",
       "    </tr>\n",
       "    <tr>\n",
       "      <th>Chitin</th>\n",
       "      <td>10.461082</td>\n",
       "      <td>1.743528</td>\n",
       "      <td>0.000000</td>\n",
       "    </tr>\n",
       "    <tr>\n",
       "      <th>Lignin</th>\n",
       "      <td>39.127178</td>\n",
       "      <td>0.326060</td>\n",
       "      <td>0.000000</td>\n",
       "    </tr>\n",
       "    <tr>\n",
       "      <th>Starch</th>\n",
       "      <td>24.591929</td>\n",
       "      <td>0.000000</td>\n",
       "      <td>0.000000</td>\n",
       "    </tr>\n",
       "    <tr>\n",
       "      <th>Protein1</th>\n",
       "      <td>13.982288</td>\n",
       "      <td>2.766171</td>\n",
       "      <td>0.000000</td>\n",
       "    </tr>\n",
       "    <tr>\n",
       "      <th>Protein2</th>\n",
       "      <td>13.982288</td>\n",
       "      <td>2.766171</td>\n",
       "      <td>0.000000</td>\n",
       "    </tr>\n",
       "    <tr>\n",
       "      <th>Protein3</th>\n",
       "      <td>13.982288</td>\n",
       "      <td>2.766171</td>\n",
       "      <td>0.000000</td>\n",
       "    </tr>\n",
       "    <tr>\n",
       "      <th>OrgP1</th>\n",
       "      <td>26.135951</td>\n",
       "      <td>0.000000</td>\n",
       "      <td>1.002023</td>\n",
       "    </tr>\n",
       "    <tr>\n",
       "      <th>OrgP2</th>\n",
       "      <td>3.807723</td>\n",
       "      <td>1.670041</td>\n",
       "      <td>1.002023</td>\n",
       "    </tr>\n",
       "  </tbody>\n",
       "</table>\n",
       "</div>"
      ],
      "text/plain": [
       "                        C         N         P\n",
       "Cellulose      127.913412  0.000000  0.000000\n",
       "Hemicellulose   43.522406  0.000000  0.000000\n",
       "Chitin          10.461082  1.743528  0.000000\n",
       "Lignin          39.127178  0.326060  0.000000\n",
       "Starch          24.591929  0.000000  0.000000\n",
       "Protein1        13.982288  2.766171  0.000000\n",
       "Protein2        13.982288  2.766171  0.000000\n",
       "Protein3        13.982288  2.766171  0.000000\n",
       "OrgP1           26.135951  0.000000  1.002023\n",
       "OrgP2            3.807723  1.670041  1.002023"
      ]
     },
     "execution_count": 17,
     "metadata": {},
     "output_type": "execute_result"
    }
   ],
   "source": [
    "grassland = ratio.mul(T_grassland * grassland_per*0.01,axis=0)\n",
    "grassland"
   ]
  },
  {
   "cell_type": "markdown",
   "metadata": {},
   "source": [
    "## **`Scrubland`**"
   ]
  },
  {
   "cell_type": "code",
   "execution_count": 18,
   "metadata": {},
   "outputs": [
    {
     "data": {
      "text/plain": [
       "Cellulose        27.800000\n",
       "Hemicellulose    19.000000\n",
       "Chitin            3.888653\n",
       "Lignin            8.100000\n",
       "Starch           10.750000\n",
       "Protein1          4.616667\n",
       "Protein2          4.616667\n",
       "Protein3          4.616667\n",
       "OrgP1             8.646746\n",
       "OrgP2             2.064601\n",
       "dtype: float64"
      ]
     },
     "execution_count": 18,
     "metadata": {},
     "output_type": "execute_result"
    }
   ],
   "source": [
    "scrubland_per = pd.Series(\n",
    "    data = [(28.0+27.6)/2, (17.1+20.9)/2, Chitin*(17.2+12.0)/2, (8.+8.2)/2, (10.5+11.0)/2,\n",
    "            (1/3)*(12.8+14.9)/2,(1/3)*(12.8+14.9)/2,(1/3)*(12.8+14.9)/2,\n",
    "           OrgP1*(17.2+12.0)/2, OrgP2*(17.2+12.0)/2],\n",
    "    index= new_index\n",
    ")\n",
    "scrubland_per"
   ]
  },
  {
   "cell_type": "code",
   "execution_count": 19,
   "metadata": {},
   "outputs": [
    {
     "data": {
      "text/plain": [
       "94.09999999999998"
      ]
     },
     "execution_count": 19,
     "metadata": {},
     "output_type": "execute_result"
    }
   ],
   "source": [
    "scrubland_per.sum()"
   ]
  },
  {
   "cell_type": "code",
   "execution_count": 20,
   "metadata": {},
   "outputs": [
    {
     "data": {
      "text/plain": [
       "353.840698"
      ]
     },
     "execution_count": 20,
     "metadata": {},
     "output_type": "execute_result"
    }
   ],
   "source": [
    "T_scrubland = T_grassland * 1.0\n",
    "T_scrubland"
   ]
  },
  {
   "cell_type": "code",
   "execution_count": 21,
   "metadata": {},
   "outputs": [
    {
     "data": {
      "text/html": [
       "<div>\n",
       "<style scoped>\n",
       "    .dataframe tbody tr th:only-of-type {\n",
       "        vertical-align: middle;\n",
       "    }\n",
       "\n",
       "    .dataframe tbody tr th {\n",
       "        vertical-align: top;\n",
       "    }\n",
       "\n",
       "    .dataframe thead th {\n",
       "        text-align: right;\n",
       "    }\n",
       "</style>\n",
       "<table border=\"1\" class=\"dataframe\">\n",
       "  <thead>\n",
       "    <tr style=\"text-align: right;\">\n",
       "      <th></th>\n",
       "      <th>C</th>\n",
       "      <th>N</th>\n",
       "      <th>P</th>\n",
       "    </tr>\n",
       "  </thead>\n",
       "  <tbody>\n",
       "    <tr>\n",
       "      <th>Cellulose</th>\n",
       "      <td>98.367714</td>\n",
       "      <td>0.000000</td>\n",
       "      <td>0.000000</td>\n",
       "    </tr>\n",
       "    <tr>\n",
       "      <th>Hemicellulose</th>\n",
       "      <td>67.229733</td>\n",
       "      <td>0.000000</td>\n",
       "      <td>0.000000</td>\n",
       "    </tr>\n",
       "    <tr>\n",
       "      <th>Chitin</th>\n",
       "      <td>11.793961</td>\n",
       "      <td>1.965676</td>\n",
       "      <td>0.000000</td>\n",
       "    </tr>\n",
       "    <tr>\n",
       "      <th>Lignin</th>\n",
       "      <td>28.424228</td>\n",
       "      <td>0.236869</td>\n",
       "      <td>0.000000</td>\n",
       "    </tr>\n",
       "    <tr>\n",
       "      <th>Starch</th>\n",
       "      <td>38.037875</td>\n",
       "      <td>0.000000</td>\n",
       "      <td>0.000000</td>\n",
       "    </tr>\n",
       "    <tr>\n",
       "      <th>Protein1</th>\n",
       "      <td>13.637654</td>\n",
       "      <td>2.697991</td>\n",
       "      <td>0.000000</td>\n",
       "    </tr>\n",
       "    <tr>\n",
       "      <th>Protein2</th>\n",
       "      <td>13.637654</td>\n",
       "      <td>2.697991</td>\n",
       "      <td>0.000000</td>\n",
       "    </tr>\n",
       "    <tr>\n",
       "      <th>Protein3</th>\n",
       "      <td>13.637654</td>\n",
       "      <td>2.697991</td>\n",
       "      <td>0.000000</td>\n",
       "    </tr>\n",
       "    <tr>\n",
       "      <th>OrgP1</th>\n",
       "      <td>29.466014</td>\n",
       "      <td>0.000000</td>\n",
       "      <td>1.129693</td>\n",
       "    </tr>\n",
       "    <tr>\n",
       "      <th>OrgP2</th>\n",
       "      <td>4.292877</td>\n",
       "      <td>1.882826</td>\n",
       "      <td>1.129693</td>\n",
       "    </tr>\n",
       "  </tbody>\n",
       "</table>\n",
       "</div>"
      ],
      "text/plain": [
       "                       C         N         P\n",
       "Cellulose      98.367714  0.000000  0.000000\n",
       "Hemicellulose  67.229733  0.000000  0.000000\n",
       "Chitin         11.793961  1.965676  0.000000\n",
       "Lignin         28.424228  0.236869  0.000000\n",
       "Starch         38.037875  0.000000  0.000000\n",
       "Protein1       13.637654  2.697991  0.000000\n",
       "Protein2       13.637654  2.697991  0.000000\n",
       "Protein3       13.637654  2.697991  0.000000\n",
       "OrgP1          29.466014  0.000000  1.129693\n",
       "OrgP2           4.292877  1.882826  1.129693"
      ]
     },
     "execution_count": 21,
     "metadata": {},
     "output_type": "execute_result"
    }
   ],
   "source": [
    "scrubland = ratio.mul(T_scrubland * scrubland_per*0.01,axis=0)\n",
    "scrubland"
   ]
  },
  {
   "cell_type": "markdown",
   "metadata": {},
   "source": [
    "## `Desert`"
   ]
  },
  {
   "cell_type": "code",
   "execution_count": 22,
   "metadata": {},
   "outputs": [
    {
     "data": {
      "text/plain": [
       "Cellulose        34.350000\n",
       "Hemicellulose     0.450000\n",
       "Chitin            5.912883\n",
       "Lignin           16.800000\n",
       "Starch            4.950000\n",
       "Protein1          3.350000\n",
       "Protein2          3.350000\n",
       "Protein3          3.350000\n",
       "OrgP1            13.147792\n",
       "OrgP2             3.139324\n",
       "dtype: float64"
      ]
     },
     "execution_count": 22,
     "metadata": {},
     "output_type": "execute_result"
    }
   ],
   "source": [
    "desert_per = pd.Series(\n",
    "    data = [(35.6+33.1)/2, (0.0+0.9)/2, Chitin*(25.7+18.7)/2, (17.4+16.2)/2, (5.+4.9)/2,\n",
    "           (1/3)*(9.1+11.0)/2,(1/3)*(9.1+11.0)/2,(1/3)*(9.1+11.0)/2,\n",
    "           OrgP1*(25.7+18.7)/2, OrgP2*(25.7+18.7)/2],\n",
    "    index= new_index\n",
    ")\n",
    "\n",
    "desert_per"
   ]
  },
  {
   "cell_type": "code",
   "execution_count": 23,
   "metadata": {},
   "outputs": [
    {
     "data": {
      "text/plain": [
       "88.79999999999998"
      ]
     },
     "execution_count": 23,
     "metadata": {},
     "output_type": "execute_result"
    }
   ],
   "source": [
    "sum(desert_per)"
   ]
  },
  {
   "cell_type": "code",
   "execution_count": 24,
   "metadata": {},
   "outputs": [
    {
     "data": {
      "text/plain": [
       "353.840698"
      ]
     },
     "execution_count": 24,
     "metadata": {},
     "output_type": "execute_result"
    }
   ],
   "source": [
    "T_desert = T_grassland * 1.0\n",
    "T_desert"
   ]
  },
  {
   "cell_type": "code",
   "execution_count": 25,
   "metadata": {},
   "outputs": [
    {
     "data": {
      "text/html": [
       "<div>\n",
       "<style scoped>\n",
       "    .dataframe tbody tr th:only-of-type {\n",
       "        vertical-align: middle;\n",
       "    }\n",
       "\n",
       "    .dataframe tbody tr th {\n",
       "        vertical-align: top;\n",
       "    }\n",
       "\n",
       "    .dataframe thead th {\n",
       "        text-align: right;\n",
       "    }\n",
       "</style>\n",
       "<table border=\"1\" class=\"dataframe\">\n",
       "  <thead>\n",
       "    <tr style=\"text-align: right;\">\n",
       "      <th></th>\n",
       "      <th>C</th>\n",
       "      <th>N</th>\n",
       "      <th>P</th>\n",
       "    </tr>\n",
       "  </thead>\n",
       "  <tbody>\n",
       "    <tr>\n",
       "      <th>Cellulose</th>\n",
       "      <td>121.544280</td>\n",
       "      <td>0.000000</td>\n",
       "      <td>0.000000</td>\n",
       "    </tr>\n",
       "    <tr>\n",
       "      <th>Hemicellulose</th>\n",
       "      <td>1.592283</td>\n",
       "      <td>0.000000</td>\n",
       "      <td>0.000000</td>\n",
       "    </tr>\n",
       "    <tr>\n",
       "      <th>Chitin</th>\n",
       "      <td>17.933283</td>\n",
       "      <td>2.988904</td>\n",
       "      <td>0.000000</td>\n",
       "    </tr>\n",
       "    <tr>\n",
       "      <th>Lignin</th>\n",
       "      <td>58.953954</td>\n",
       "      <td>0.491283</td>\n",
       "      <td>0.000000</td>\n",
       "    </tr>\n",
       "    <tr>\n",
       "      <th>Starch</th>\n",
       "      <td>17.515115</td>\n",
       "      <td>0.000000</td>\n",
       "      <td>0.000000</td>\n",
       "    </tr>\n",
       "    <tr>\n",
       "      <th>Protein1</th>\n",
       "      <td>9.895915</td>\n",
       "      <td>1.957748</td>\n",
       "      <td>0.000000</td>\n",
       "    </tr>\n",
       "    <tr>\n",
       "      <th>Protein2</th>\n",
       "      <td>9.895915</td>\n",
       "      <td>1.957748</td>\n",
       "      <td>0.000000</td>\n",
       "    </tr>\n",
       "    <tr>\n",
       "      <th>Protein3</th>\n",
       "      <td>9.895915</td>\n",
       "      <td>1.957748</td>\n",
       "      <td>0.000000</td>\n",
       "    </tr>\n",
       "    <tr>\n",
       "      <th>OrgP1</th>\n",
       "      <td>44.804488</td>\n",
       "      <td>0.000000</td>\n",
       "      <td>1.717753</td>\n",
       "    </tr>\n",
       "    <tr>\n",
       "      <th>OrgP2</th>\n",
       "      <td>6.527526</td>\n",
       "      <td>2.862928</td>\n",
       "      <td>1.717753</td>\n",
       "    </tr>\n",
       "  </tbody>\n",
       "</table>\n",
       "</div>"
      ],
      "text/plain": [
       "                        C         N         P\n",
       "Cellulose      121.544280  0.000000  0.000000\n",
       "Hemicellulose    1.592283  0.000000  0.000000\n",
       "Chitin          17.933283  2.988904  0.000000\n",
       "Lignin          58.953954  0.491283  0.000000\n",
       "Starch          17.515115  0.000000  0.000000\n",
       "Protein1         9.895915  1.957748  0.000000\n",
       "Protein2         9.895915  1.957748  0.000000\n",
       "Protein3         9.895915  1.957748  0.000000\n",
       "OrgP1           44.804488  0.000000  1.717753\n",
       "OrgP2            6.527526  2.862928  1.717753"
      ]
     },
     "execution_count": 25,
     "metadata": {},
     "output_type": "execute_result"
    }
   ],
   "source": [
    "desert = ratio.mul(T_desert * desert_per*0.01,axis=0)\n",
    "desert"
   ]
  },
  {
   "cell_type": "markdown",
   "metadata": {},
   "source": [
    "## `Pine-oak`"
   ]
  },
  {
   "cell_type": "code",
   "execution_count": 26,
   "metadata": {},
   "outputs": [
    {
     "data": {
      "text/plain": [
       "Cellulose        23.150000\n",
       "Hemicellulose     5.450000\n",
       "Chitin            8.243412\n",
       "Lignin           13.350000\n",
       "Starch           14.300000\n",
       "Protein1          0.566667\n",
       "Protein2          0.566667\n",
       "Protein3          0.566667\n",
       "OrgP1            18.329918\n",
       "OrgP2             4.376670\n",
       "dtype: float64"
      ]
     },
     "execution_count": 26,
     "metadata": {},
     "output_type": "execute_result"
    }
   ],
   "source": [
    "pineoak_per = pd.Series(\n",
    "    data = [(24.1+22.2)/2, (5.6+5.3)/2, Chitin*(31.3+30.6)/2, (13.6+13.1)/2,(12.6+16.0)/2,\n",
    "           (1/3)*(1.9+1.5)/2, (1/3)*(1.9+1.5)/2,(1/3)*(1.9+1.5)/2,\n",
    "           OrgP1*(31.3+30.6)/2,OrgP2*(31.3+30.6)/2],\n",
    "    index=new_index\n",
    ")\n",
    "pineoak_per"
   ]
  },
  {
   "cell_type": "code",
   "execution_count": 27,
   "metadata": {},
   "outputs": [
    {
     "data": {
      "text/plain": [
       "88.89999999999999"
      ]
     },
     "execution_count": 27,
     "metadata": {},
     "output_type": "execute_result"
    }
   ],
   "source": [
    "sum(pineoak_per)"
   ]
  },
  {
   "cell_type": "code",
   "execution_count": 28,
   "metadata": {},
   "outputs": [
    {
     "data": {
      "text/plain": [
       "353.840698"
      ]
     },
     "execution_count": 28,
     "metadata": {},
     "output_type": "execute_result"
    }
   ],
   "source": [
    "T_pineoak = T_grassland\n",
    "T_pineoak"
   ]
  },
  {
   "cell_type": "code",
   "execution_count": 29,
   "metadata": {},
   "outputs": [
    {
     "data": {
      "text/html": [
       "<div>\n",
       "<style scoped>\n",
       "    .dataframe tbody tr th:only-of-type {\n",
       "        vertical-align: middle;\n",
       "    }\n",
       "\n",
       "    .dataframe tbody tr th {\n",
       "        vertical-align: top;\n",
       "    }\n",
       "\n",
       "    .dataframe thead th {\n",
       "        text-align: right;\n",
       "    }\n",
       "</style>\n",
       "<table border=\"1\" class=\"dataframe\">\n",
       "  <thead>\n",
       "    <tr style=\"text-align: right;\">\n",
       "      <th></th>\n",
       "      <th>C</th>\n",
       "      <th>N</th>\n",
       "      <th>P</th>\n",
       "    </tr>\n",
       "  </thead>\n",
       "  <tbody>\n",
       "    <tr>\n",
       "      <th>Cellulose</th>\n",
       "      <td>81.914122</td>\n",
       "      <td>0.000000</td>\n",
       "      <td>0.000000</td>\n",
       "    </tr>\n",
       "    <tr>\n",
       "      <th>Hemicellulose</th>\n",
       "      <td>19.284318</td>\n",
       "      <td>0.000000</td>\n",
       "      <td>0.000000</td>\n",
       "    </tr>\n",
       "    <tr>\n",
       "      <th>Chitin</th>\n",
       "      <td>25.001582</td>\n",
       "      <td>4.166964</td>\n",
       "      <td>0.000000</td>\n",
       "    </tr>\n",
       "    <tr>\n",
       "      <th>Lignin</th>\n",
       "      <td>46.847339</td>\n",
       "      <td>0.390394</td>\n",
       "      <td>0.000000</td>\n",
       "    </tr>\n",
       "    <tr>\n",
       "      <th>Starch</th>\n",
       "      <td>50.599220</td>\n",
       "      <td>0.000000</td>\n",
       "      <td>0.000000</td>\n",
       "    </tr>\n",
       "    <tr>\n",
       "      <th>Protein1</th>\n",
       "      <td>1.673936</td>\n",
       "      <td>0.331161</td>\n",
       "      <td>0.000000</td>\n",
       "    </tr>\n",
       "    <tr>\n",
       "      <th>Protein2</th>\n",
       "      <td>1.673936</td>\n",
       "      <td>0.331161</td>\n",
       "      <td>0.000000</td>\n",
       "    </tr>\n",
       "    <tr>\n",
       "      <th>Protein3</th>\n",
       "      <td>1.673936</td>\n",
       "      <td>0.331161</td>\n",
       "      <td>0.000000</td>\n",
       "    </tr>\n",
       "    <tr>\n",
       "      <th>OrgP1</th>\n",
       "      <td>62.463914</td>\n",
       "      <td>0.000000</td>\n",
       "      <td>2.394795</td>\n",
       "    </tr>\n",
       "    <tr>\n",
       "      <th>OrgP2</th>\n",
       "      <td>9.100312</td>\n",
       "      <td>3.991334</td>\n",
       "      <td>2.394795</td>\n",
       "    </tr>\n",
       "  </tbody>\n",
       "</table>\n",
       "</div>"
      ],
      "text/plain": [
       "                       C         N         P\n",
       "Cellulose      81.914122  0.000000  0.000000\n",
       "Hemicellulose  19.284318  0.000000  0.000000\n",
       "Chitin         25.001582  4.166964  0.000000\n",
       "Lignin         46.847339  0.390394  0.000000\n",
       "Starch         50.599220  0.000000  0.000000\n",
       "Protein1        1.673936  0.331161  0.000000\n",
       "Protein2        1.673936  0.331161  0.000000\n",
       "Protein3        1.673936  0.331161  0.000000\n",
       "OrgP1          62.463914  0.000000  2.394795\n",
       "OrgP2           9.100312  3.991334  2.394795"
      ]
     },
     "execution_count": 29,
     "metadata": {},
     "output_type": "execute_result"
    }
   ],
   "source": [
    "pineoak = ratio.mul(T_pineoak * pineoak_per*0.01,axis=0)\n",
    "pineoak"
   ]
  },
  {
   "cell_type": "markdown",
   "metadata": {},
   "source": [
    "## `subalpine`"
   ]
  },
  {
   "cell_type": "code",
   "execution_count": 30,
   "metadata": {},
   "outputs": [
    {
     "data": {
      "text/plain": [
       "Cellulose        23.600000\n",
       "Hemicellulose     5.800000\n",
       "Chitin            8.895960\n",
       "Lignin           13.900000\n",
       "Starch           10.250000\n",
       "Protein1          0.950000\n",
       "Protein2          0.950000\n",
       "Protein3          0.950000\n",
       "OrgP1            19.780913\n",
       "OrgP2             4.723127\n",
       "dtype: float64"
      ]
     },
     "execution_count": 30,
     "metadata": {},
     "output_type": "execute_result"
    }
   ],
   "source": [
    "subalpine_per = pd.Series(\n",
    "    data = [(24.1+23.1)/2,(6.1+5.5)/2, Chitin*(34.+32.8)/2, (13.9+13.9)/2,(8.9+11.6)/2,\n",
    "           (1/3)*(2.9+2.8)/2,(1/3)*(2.9+2.8)/2,(1/3)*(2.9+2.8)/2,\n",
    "           OrgP1*(34.+32.8)/2,OrgP2*(34.+32.8)/2],\n",
    "    index=new_index\n",
    ")\n",
    "subalpine_per"
   ]
  },
  {
   "cell_type": "code",
   "execution_count": 31,
   "metadata": {},
   "outputs": [
    {
     "data": {
      "text/plain": [
       "89.8"
      ]
     },
     "execution_count": 31,
     "metadata": {},
     "output_type": "execute_result"
    }
   ],
   "source": [
    "sum(subalpine_per)"
   ]
  },
  {
   "cell_type": "code",
   "execution_count": 32,
   "metadata": {},
   "outputs": [
    {
     "data": {
      "text/plain": [
       "353.840698"
      ]
     },
     "execution_count": 32,
     "metadata": {},
     "output_type": "execute_result"
    }
   ],
   "source": [
    "T_subalpine = T_grassland * (1.0)\n",
    "T_subalpine"
   ]
  },
  {
   "cell_type": "code",
   "execution_count": 33,
   "metadata": {},
   "outputs": [
    {
     "data": {
      "text/html": [
       "<div>\n",
       "<style scoped>\n",
       "    .dataframe tbody tr th:only-of-type {\n",
       "        vertical-align: middle;\n",
       "    }\n",
       "\n",
       "    .dataframe tbody tr th {\n",
       "        vertical-align: top;\n",
       "    }\n",
       "\n",
       "    .dataframe thead th {\n",
       "        text-align: right;\n",
       "    }\n",
       "</style>\n",
       "<table border=\"1\" class=\"dataframe\">\n",
       "  <thead>\n",
       "    <tr style=\"text-align: right;\">\n",
       "      <th></th>\n",
       "      <th>C</th>\n",
       "      <th>N</th>\n",
       "      <th>P</th>\n",
       "    </tr>\n",
       "  </thead>\n",
       "  <tbody>\n",
       "    <tr>\n",
       "      <th>Cellulose</th>\n",
       "      <td>83.506405</td>\n",
       "      <td>0.000000</td>\n",
       "      <td>0.000000</td>\n",
       "    </tr>\n",
       "    <tr>\n",
       "      <th>Hemicellulose</th>\n",
       "      <td>20.522760</td>\n",
       "      <td>0.000000</td>\n",
       "      <td>0.000000</td>\n",
       "    </tr>\n",
       "    <tr>\n",
       "      <th>Chitin</th>\n",
       "      <td>26.980706</td>\n",
       "      <td>4.496820</td>\n",
       "      <td>0.000000</td>\n",
       "    </tr>\n",
       "    <tr>\n",
       "      <th>Lignin</th>\n",
       "      <td>48.777379</td>\n",
       "      <td>0.406478</td>\n",
       "      <td>0.000000</td>\n",
       "    </tr>\n",
       "    <tr>\n",
       "      <th>Starch</th>\n",
       "      <td>36.268672</td>\n",
       "      <td>0.000000</td>\n",
       "      <td>0.000000</td>\n",
       "    </tr>\n",
       "    <tr>\n",
       "      <th>Protein1</th>\n",
       "      <td>2.806304</td>\n",
       "      <td>0.555182</td>\n",
       "      <td>0.000000</td>\n",
       "    </tr>\n",
       "    <tr>\n",
       "      <th>Protein2</th>\n",
       "      <td>2.806304</td>\n",
       "      <td>0.555182</td>\n",
       "      <td>0.000000</td>\n",
       "    </tr>\n",
       "    <tr>\n",
       "      <th>Protein3</th>\n",
       "      <td>2.806304</td>\n",
       "      <td>0.555182</td>\n",
       "      <td>0.000000</td>\n",
       "    </tr>\n",
       "    <tr>\n",
       "      <th>OrgP1</th>\n",
       "      <td>67.408553</td>\n",
       "      <td>0.000000</td>\n",
       "      <td>2.584367</td>\n",
       "    </tr>\n",
       "    <tr>\n",
       "      <th>OrgP2</th>\n",
       "      <td>9.820692</td>\n",
       "      <td>4.307288</td>\n",
       "      <td>2.584367</td>\n",
       "    </tr>\n",
       "  </tbody>\n",
       "</table>\n",
       "</div>"
      ],
      "text/plain": [
       "                       C         N         P\n",
       "Cellulose      83.506405  0.000000  0.000000\n",
       "Hemicellulose  20.522760  0.000000  0.000000\n",
       "Chitin         26.980706  4.496820  0.000000\n",
       "Lignin         48.777379  0.406478  0.000000\n",
       "Starch         36.268672  0.000000  0.000000\n",
       "Protein1        2.806304  0.555182  0.000000\n",
       "Protein2        2.806304  0.555182  0.000000\n",
       "Protein3        2.806304  0.555182  0.000000\n",
       "OrgP1          67.408553  0.000000  2.584367\n",
       "OrgP2           9.820692  4.307288  2.584367"
      ]
     },
     "execution_count": 33,
     "metadata": {},
     "output_type": "execute_result"
    }
   ],
   "source": [
    "subalpine = ratio.mul(T_subalpine * subalpine_per*0.01,axis=0)\n",
    "subalpine"
   ]
  },
  {
   "cell_type": "markdown",
   "metadata": {},
   "source": [
    "### Derive simulation ready inputs"
   ]
  },
  {
   "cell_type": "code",
   "execution_count": 34,
   "metadata": {},
   "outputs": [],
   "source": [
    "def site_litter(site, data):\n",
    "    \n",
    "    index = ['DeadMic',\n",
    "             'DeadEnz',\n",
    "             'Cellulose',\n",
    "             'Hemicellulose',\n",
    "             'Starch',\n",
    "             'Chitin',\n",
    "             'Lignin',\n",
    "             'Protein1',\n",
    "             'Protein2',\n",
    "             'Protein3',\n",
    "             'OrgP1',\n",
    "             'OrgP2']\n",
    "    data.loc['DeadEnz'] = [0.,0.,0.]\n",
    "    data.loc['DeadMic'] = [0.,0.,0.]\n",
    "    data = data.loc[index,:]\n",
    "    \n",
    "    data.to_csv(\"../\"+site+\"/initial_substrates.csv\")   "
   ]
  },
  {
   "cell_type": "code",
   "execution_count": 35,
   "metadata": {
    "scrolled": false
   },
   "outputs": [],
   "source": [
    "site_litter('desert',   desert)\n",
    "site_litter('scrubland',scrubland)\n",
    "site_litter('grassland',grassland)\n",
    "site_litter('pine_oak', pineoak)\n",
    "site_litter('subalpine',subalpine)"
   ]
  }
 ],
 "metadata": {
  "kernelspec": {
   "display_name": "microbiome_env",
   "language": "python",
   "name": "microbiome_env"
  },
  "language_info": {
   "codemirror_mode": {
    "name": "ipython",
    "version": 3
   },
   "file_extension": ".py",
   "mimetype": "text/x-python",
   "name": "python",
   "nbconvert_exporter": "python",
   "pygments_lexer": "ipython3",
   "version": "3.7.10"
  }
 },
 "nbformat": 4,
 "nbformat_minor": 4
}
