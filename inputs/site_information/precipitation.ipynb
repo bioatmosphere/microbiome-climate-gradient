{
 "cells": [
  {
   "cell_type": "markdown",
   "metadata": {},
   "source": [
    "## Derive daily precipitation at each of the five sites across a Southern California Climate Gradient\n",
    "\n",
    "\n",
    "**Methods**:\n",
    "\n",
    "\n",
    "\n",
    "**Data**: https://github.com/stevenallison/UCIClimateExperiment/blob/master/Precipitation.R"
   ]
  },
  {
   "cell_type": "code",
   "execution_count": null,
   "metadata": {},
   "outputs": [],
   "source": []
  }
 ],
 "metadata": {
  "kernelspec": {
   "display_name": "R",
   "language": "R",
   "name": "ir"
  },
  "language_info": {
   "codemirror_mode": "r",
   "file_extension": ".r",
   "mimetype": "text/x-r-source",
   "name": "R",
   "pygments_lexer": "r",
   "version": "3.6.3"
  }
 },
 "nbformat": 4,
 "nbformat_minor": 4
}
