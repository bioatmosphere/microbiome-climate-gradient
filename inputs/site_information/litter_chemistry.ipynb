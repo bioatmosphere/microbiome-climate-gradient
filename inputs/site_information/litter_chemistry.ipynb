{
 "cells": [
  {
   "cell_type": "markdown",
   "metadata": {},
   "source": [
    "**Derive litter chemistry inputs for each of the five sites across the climate gradient**"
   ]
  },
  {
   "cell_type": "code",
   "execution_count": 1,
   "metadata": {},
   "outputs": [],
   "source": [
    "import pandas as pd\n",
    "import numpy  as np\n",
    "\n",
    "import os"
   ]
  },
  {
   "cell_type": "code",
   "execution_count": 2,
   "metadata": {},
   "outputs": [
    {
     "data": {
      "text/plain": [
       "'/Users/Ben/DEMENTpy/microbiome-climate-gradient/inputs/site_information'"
      ]
     },
     "execution_count": 2,
     "metadata": {},
     "output_type": "execute_result"
    }
   ],
   "source": [
    "pwd()"
   ]
  },
  {
   "cell_type": "code",
   "execution_count": 3,
   "metadata": {},
   "outputs": [],
   "source": [
    "os.chdir(\"../grassland\")"
   ]
  },
  {
   "cell_type": "code",
   "execution_count": 4,
   "metadata": {},
   "outputs": [
    {
     "data": {
      "text/plain": [
       "'/Users/Ben/DEMENTpy/microbiome-climate-gradient/inputs/grassland'"
      ]
     },
     "execution_count": 4,
     "metadata": {},
     "output_type": "execute_result"
    }
   ],
   "source": [
    "pwd()"
   ]
  },
  {
   "cell_type": "markdown",
   "metadata": {},
   "source": [
    "## load grassland site litter"
   ]
  },
  {
   "cell_type": "code",
   "execution_count": 6,
   "metadata": {},
   "outputs": [
    {
     "data": {
      "text/html": [
       "<div>\n",
       "<style scoped>\n",
       "    .dataframe tbody tr th:only-of-type {\n",
       "        vertical-align: middle;\n",
       "    }\n",
       "\n",
       "    .dataframe tbody tr th {\n",
       "        vertical-align: top;\n",
       "    }\n",
       "\n",
       "    .dataframe thead th {\n",
       "        text-align: right;\n",
       "    }\n",
       "</style>\n",
       "<table border=\"1\" class=\"dataframe\">\n",
       "  <thead>\n",
       "    <tr style=\"text-align: right;\">\n",
       "      <th></th>\n",
       "      <th>C</th>\n",
       "      <th>N</th>\n",
       "      <th>P</th>\n",
       "    </tr>\n",
       "  </thead>\n",
       "  <tbody>\n",
       "    <tr>\n",
       "      <th>DeadMic</th>\n",
       "      <td>0.0000</td>\n",
       "      <td>0.00000</td>\n",
       "      <td>0.000000</td>\n",
       "    </tr>\n",
       "    <tr>\n",
       "      <th>DeadEnz</th>\n",
       "      <td>0.0000</td>\n",
       "      <td>0.00000</td>\n",
       "      <td>0.000000</td>\n",
       "    </tr>\n",
       "    <tr>\n",
       "      <th>Cellulose</th>\n",
       "      <td>146.8900</td>\n",
       "      <td>0.00000</td>\n",
       "      <td>0.000000</td>\n",
       "    </tr>\n",
       "    <tr>\n",
       "      <th>Hemicellulose</th>\n",
       "      <td>85.8550</td>\n",
       "      <td>0.00000</td>\n",
       "      <td>0.000000</td>\n",
       "    </tr>\n",
       "    <tr>\n",
       "      <th>Starch</th>\n",
       "      <td>12.2100</td>\n",
       "      <td>0.00000</td>\n",
       "      <td>0.000000</td>\n",
       "    </tr>\n",
       "    <tr>\n",
       "      <th>Chitin</th>\n",
       "      <td>4.9952</td>\n",
       "      <td>0.83254</td>\n",
       "      <td>0.000000</td>\n",
       "    </tr>\n",
       "    <tr>\n",
       "      <th>Lignin</th>\n",
       "      <td>48.5100</td>\n",
       "      <td>0.40425</td>\n",
       "      <td>0.000000</td>\n",
       "    </tr>\n",
       "    <tr>\n",
       "      <th>Protein1</th>\n",
       "      <td>10.6000</td>\n",
       "      <td>2.09704</td>\n",
       "      <td>0.000000</td>\n",
       "    </tr>\n",
       "    <tr>\n",
       "      <th>Protein2</th>\n",
       "      <td>10.6000</td>\n",
       "      <td>2.09704</td>\n",
       "      <td>0.000000</td>\n",
       "    </tr>\n",
       "    <tr>\n",
       "      <th>Protein3</th>\n",
       "      <td>10.6000</td>\n",
       "      <td>2.09704</td>\n",
       "      <td>0.000000</td>\n",
       "    </tr>\n",
       "    <tr>\n",
       "      <th>OrgP1</th>\n",
       "      <td>12.4800</td>\n",
       "      <td>0.00000</td>\n",
       "      <td>0.478469</td>\n",
       "    </tr>\n",
       "    <tr>\n",
       "      <th>OrgP2</th>\n",
       "      <td>1.8182</td>\n",
       "      <td>0.79745</td>\n",
       "      <td>0.478469</td>\n",
       "    </tr>\n",
       "  </tbody>\n",
       "</table>\n",
       "</div>"
      ],
      "text/plain": [
       "                      C        N         P\n",
       "DeadMic          0.0000  0.00000  0.000000\n",
       "DeadEnz          0.0000  0.00000  0.000000\n",
       "Cellulose      146.8900  0.00000  0.000000\n",
       "Hemicellulose   85.8550  0.00000  0.000000\n",
       "Starch          12.2100  0.00000  0.000000\n",
       "Chitin           4.9952  0.83254  0.000000\n",
       "Lignin          48.5100  0.40425  0.000000\n",
       "Protein1        10.6000  2.09704  0.000000\n",
       "Protein2        10.6000  2.09704  0.000000\n",
       "Protein3        10.6000  2.09704  0.000000\n",
       "OrgP1           12.4800  0.00000  0.478469\n",
       "OrgP2            1.8182  0.79745  0.478469"
      ]
     },
     "execution_count": 6,
     "metadata": {},
     "output_type": "execute_result"
    }
   ],
   "source": [
    "grassland = pd.read_csv('initial_substrates.csv',index_col=0)\n",
    "grassland"
   ]
  },
  {
   "cell_type": "code",
   "execution_count": null,
   "metadata": {},
   "outputs": [],
   "source": []
  }
 ],
 "metadata": {
  "kernelspec": {
   "display_name": "Python (dement_env)",
   "language": "python",
   "name": "dement_env"
  },
  "language_info": {
   "codemirror_mode": {
    "name": "ipython",
    "version": 3
   },
   "file_extension": ".py",
   "mimetype": "text/x-python",
   "name": "python",
   "nbconvert_exporter": "python",
   "pygments_lexer": "ipython3",
   "version": "3.7.6"
  }
 },
 "nbformat": 4,
 "nbformat_minor": 4
}
