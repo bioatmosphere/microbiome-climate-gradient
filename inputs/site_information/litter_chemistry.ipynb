{
 "cells": [
  {
   "cell_type": "markdown",
   "metadata": {},
   "source": [
    "**Derive litter chemistry inputs for each of the five sites across the climate gradient**"
   ]
  },
  {
   "cell_type": "code",
   "execution_count": 2,
   "metadata": {},
   "outputs": [],
   "source": [
    "import pandas as pd\n",
    "import numpy  as np\n",
    "\n",
    "import os"
   ]
  },
  {
   "cell_type": "code",
   "execution_count": 3,
   "metadata": {},
   "outputs": [
    {
     "data": {
      "text/plain": [
       "'/Users/Ben/DEMENTpy/microbiome-climate-gradient/inputs/site_information'"
      ]
     },
     "execution_count": 3,
     "metadata": {},
     "output_type": "execute_result"
    }
   ],
   "source": [
    "pwd()"
   ]
  },
  {
   "cell_type": "code",
   "execution_count": 4,
   "metadata": {},
   "outputs": [],
   "source": [
    "os.chdir(\"../grassland\")"
   ]
  },
  {
   "cell_type": "code",
   "execution_count": 5,
   "metadata": {},
   "outputs": [
    {
     "data": {
      "text/plain": [
       "'/Users/Ben/DEMENTpy/microbiome-climate-gradient/inputs/grassland'"
      ]
     },
     "execution_count": 5,
     "metadata": {},
     "output_type": "execute_result"
    }
   ],
   "source": [
    "pwd()"
   ]
  },
  {
   "cell_type": "markdown",
   "metadata": {},
   "source": [
    "## grassland site litter"
   ]
  },
  {
   "cell_type": "code",
   "execution_count": 144,
   "metadata": {},
   "outputs": [
    {
     "data": {
      "text/html": [
       "<div>\n",
       "<style scoped>\n",
       "    .dataframe tbody tr th:only-of-type {\n",
       "        vertical-align: middle;\n",
       "    }\n",
       "\n",
       "    .dataframe tbody tr th {\n",
       "        vertical-align: top;\n",
       "    }\n",
       "\n",
       "    .dataframe thead th {\n",
       "        text-align: right;\n",
       "    }\n",
       "</style>\n",
       "<table border=\"1\" class=\"dataframe\">\n",
       "  <thead>\n",
       "    <tr style=\"text-align: right;\">\n",
       "      <th></th>\n",
       "      <th>C</th>\n",
       "      <th>N</th>\n",
       "      <th>P</th>\n",
       "    </tr>\n",
       "  </thead>\n",
       "  <tbody>\n",
       "    <tr>\n",
       "      <th>DeadMic</th>\n",
       "      <td>0.0000</td>\n",
       "      <td>0.00000</td>\n",
       "      <td>0.000000</td>\n",
       "    </tr>\n",
       "    <tr>\n",
       "      <th>DeadEnz</th>\n",
       "      <td>0.0000</td>\n",
       "      <td>0.00000</td>\n",
       "      <td>0.000000</td>\n",
       "    </tr>\n",
       "    <tr>\n",
       "      <th>Cellulose</th>\n",
       "      <td>146.8900</td>\n",
       "      <td>0.00000</td>\n",
       "      <td>0.000000</td>\n",
       "    </tr>\n",
       "    <tr>\n",
       "      <th>Hemicellulose</th>\n",
       "      <td>85.8550</td>\n",
       "      <td>0.00000</td>\n",
       "      <td>0.000000</td>\n",
       "    </tr>\n",
       "    <tr>\n",
       "      <th>Starch</th>\n",
       "      <td>12.2100</td>\n",
       "      <td>0.00000</td>\n",
       "      <td>0.000000</td>\n",
       "    </tr>\n",
       "    <tr>\n",
       "      <th>Chitin</th>\n",
       "      <td>4.9952</td>\n",
       "      <td>0.83254</td>\n",
       "      <td>0.000000</td>\n",
       "    </tr>\n",
       "    <tr>\n",
       "      <th>Lignin</th>\n",
       "      <td>48.5100</td>\n",
       "      <td>0.40425</td>\n",
       "      <td>0.000000</td>\n",
       "    </tr>\n",
       "    <tr>\n",
       "      <th>Protein1</th>\n",
       "      <td>10.6000</td>\n",
       "      <td>2.09704</td>\n",
       "      <td>0.000000</td>\n",
       "    </tr>\n",
       "    <tr>\n",
       "      <th>Protein2</th>\n",
       "      <td>10.6000</td>\n",
       "      <td>2.09704</td>\n",
       "      <td>0.000000</td>\n",
       "    </tr>\n",
       "    <tr>\n",
       "      <th>Protein3</th>\n",
       "      <td>10.6000</td>\n",
       "      <td>2.09704</td>\n",
       "      <td>0.000000</td>\n",
       "    </tr>\n",
       "    <tr>\n",
       "      <th>OrgP1</th>\n",
       "      <td>12.4800</td>\n",
       "      <td>0.00000</td>\n",
       "      <td>0.478469</td>\n",
       "    </tr>\n",
       "    <tr>\n",
       "      <th>OrgP2</th>\n",
       "      <td>1.8182</td>\n",
       "      <td>0.79745</td>\n",
       "      <td>0.478469</td>\n",
       "    </tr>\n",
       "  </tbody>\n",
       "</table>\n",
       "</div>"
      ],
      "text/plain": [
       "                      C        N         P\n",
       "DeadMic          0.0000  0.00000  0.000000\n",
       "DeadEnz          0.0000  0.00000  0.000000\n",
       "Cellulose      146.8900  0.00000  0.000000\n",
       "Hemicellulose   85.8550  0.00000  0.000000\n",
       "Starch          12.2100  0.00000  0.000000\n",
       "Chitin           4.9952  0.83254  0.000000\n",
       "Lignin          48.5100  0.40425  0.000000\n",
       "Protein1        10.6000  2.09704  0.000000\n",
       "Protein2        10.6000  2.09704  0.000000\n",
       "Protein3        10.6000  2.09704  0.000000\n",
       "OrgP1           12.4800  0.00000  0.478469\n",
       "OrgP2            1.8182  0.79745  0.478469"
      ]
     },
     "execution_count": 144,
     "metadata": {},
     "output_type": "execute_result"
    }
   ],
   "source": [
    "grassland = pd.read_csv('initial_substrates.csv',index_col=0)\n",
    "grassland"
   ]
  },
  {
   "cell_type": "code",
   "execution_count": 145,
   "metadata": {},
   "outputs": [
    {
     "data": {
      "text/html": [
       "<div>\n",
       "<style scoped>\n",
       "    .dataframe tbody tr th:only-of-type {\n",
       "        vertical-align: middle;\n",
       "    }\n",
       "\n",
       "    .dataframe tbody tr th {\n",
       "        vertical-align: top;\n",
       "    }\n",
       "\n",
       "    .dataframe thead th {\n",
       "        text-align: right;\n",
       "    }\n",
       "</style>\n",
       "<table border=\"1\" class=\"dataframe\">\n",
       "  <thead>\n",
       "    <tr style=\"text-align: right;\">\n",
       "      <th></th>\n",
       "      <th>C</th>\n",
       "      <th>N</th>\n",
       "      <th>P</th>\n",
       "    </tr>\n",
       "  </thead>\n",
       "  <tbody>\n",
       "    <tr>\n",
       "      <th>Cellulose</th>\n",
       "      <td>146.8900</td>\n",
       "      <td>0.00000</td>\n",
       "      <td>0.000000</td>\n",
       "    </tr>\n",
       "    <tr>\n",
       "      <th>Hemicellulose</th>\n",
       "      <td>85.8550</td>\n",
       "      <td>0.00000</td>\n",
       "      <td>0.000000</td>\n",
       "    </tr>\n",
       "    <tr>\n",
       "      <th>Starch</th>\n",
       "      <td>12.2100</td>\n",
       "      <td>0.00000</td>\n",
       "      <td>0.000000</td>\n",
       "    </tr>\n",
       "    <tr>\n",
       "      <th>Chitin</th>\n",
       "      <td>4.9952</td>\n",
       "      <td>0.83254</td>\n",
       "      <td>0.000000</td>\n",
       "    </tr>\n",
       "    <tr>\n",
       "      <th>Lignin</th>\n",
       "      <td>48.5100</td>\n",
       "      <td>0.40425</td>\n",
       "      <td>0.000000</td>\n",
       "    </tr>\n",
       "    <tr>\n",
       "      <th>Protein1</th>\n",
       "      <td>10.6000</td>\n",
       "      <td>2.09704</td>\n",
       "      <td>0.000000</td>\n",
       "    </tr>\n",
       "    <tr>\n",
       "      <th>Protein2</th>\n",
       "      <td>10.6000</td>\n",
       "      <td>2.09704</td>\n",
       "      <td>0.000000</td>\n",
       "    </tr>\n",
       "    <tr>\n",
       "      <th>Protein3</th>\n",
       "      <td>10.6000</td>\n",
       "      <td>2.09704</td>\n",
       "      <td>0.000000</td>\n",
       "    </tr>\n",
       "    <tr>\n",
       "      <th>OrgP1</th>\n",
       "      <td>12.4800</td>\n",
       "      <td>0.00000</td>\n",
       "      <td>0.478469</td>\n",
       "    </tr>\n",
       "    <tr>\n",
       "      <th>OrgP2</th>\n",
       "      <td>1.8182</td>\n",
       "      <td>0.79745</td>\n",
       "      <td>0.478469</td>\n",
       "    </tr>\n",
       "  </tbody>\n",
       "</table>\n",
       "</div>"
      ],
      "text/plain": [
       "                      C        N         P\n",
       "Cellulose      146.8900  0.00000  0.000000\n",
       "Hemicellulose   85.8550  0.00000  0.000000\n",
       "Starch          12.2100  0.00000  0.000000\n",
       "Chitin           4.9952  0.83254  0.000000\n",
       "Lignin          48.5100  0.40425  0.000000\n",
       "Protein1        10.6000  2.09704  0.000000\n",
       "Protein2        10.6000  2.09704  0.000000\n",
       "Protein3        10.6000  2.09704  0.000000\n",
       "OrgP1           12.4800  0.00000  0.478469\n",
       "OrgP2            1.8182  0.79745  0.478469"
      ]
     },
     "execution_count": 145,
     "metadata": {},
     "output_type": "execute_result"
    }
   ],
   "source": [
    "grassland = grassland.iloc[2:,:]\n",
    "grassland"
   ]
  },
  {
   "cell_type": "code",
   "execution_count": 146,
   "metadata": {},
   "outputs": [],
   "source": [
    "new_index = ['Cellulose', 'Hemicellulose', 'Chitin', 'Lignin', 'Starch','Protein1','Protein2', 'Protein3', 'OrgP1', 'OrgP2']"
   ]
  },
  {
   "cell_type": "code",
   "execution_count": 147,
   "metadata": {},
   "outputs": [
    {
     "data": {
      "text/html": [
       "<div>\n",
       "<style scoped>\n",
       "    .dataframe tbody tr th:only-of-type {\n",
       "        vertical-align: middle;\n",
       "    }\n",
       "\n",
       "    .dataframe tbody tr th {\n",
       "        vertical-align: top;\n",
       "    }\n",
       "\n",
       "    .dataframe thead th {\n",
       "        text-align: right;\n",
       "    }\n",
       "</style>\n",
       "<table border=\"1\" class=\"dataframe\">\n",
       "  <thead>\n",
       "    <tr style=\"text-align: right;\">\n",
       "      <th></th>\n",
       "      <th>C</th>\n",
       "      <th>N</th>\n",
       "      <th>P</th>\n",
       "    </tr>\n",
       "  </thead>\n",
       "  <tbody>\n",
       "    <tr>\n",
       "      <th>Cellulose</th>\n",
       "      <td>146.8900</td>\n",
       "      <td>0.00000</td>\n",
       "      <td>0.000000</td>\n",
       "    </tr>\n",
       "    <tr>\n",
       "      <th>Hemicellulose</th>\n",
       "      <td>85.8550</td>\n",
       "      <td>0.00000</td>\n",
       "      <td>0.000000</td>\n",
       "    </tr>\n",
       "    <tr>\n",
       "      <th>Chitin</th>\n",
       "      <td>4.9952</td>\n",
       "      <td>0.83254</td>\n",
       "      <td>0.000000</td>\n",
       "    </tr>\n",
       "    <tr>\n",
       "      <th>Lignin</th>\n",
       "      <td>48.5100</td>\n",
       "      <td>0.40425</td>\n",
       "      <td>0.000000</td>\n",
       "    </tr>\n",
       "    <tr>\n",
       "      <th>Starch</th>\n",
       "      <td>12.2100</td>\n",
       "      <td>0.00000</td>\n",
       "      <td>0.000000</td>\n",
       "    </tr>\n",
       "    <tr>\n",
       "      <th>Protein1</th>\n",
       "      <td>10.6000</td>\n",
       "      <td>2.09704</td>\n",
       "      <td>0.000000</td>\n",
       "    </tr>\n",
       "    <tr>\n",
       "      <th>Protein2</th>\n",
       "      <td>10.6000</td>\n",
       "      <td>2.09704</td>\n",
       "      <td>0.000000</td>\n",
       "    </tr>\n",
       "    <tr>\n",
       "      <th>Protein3</th>\n",
       "      <td>10.6000</td>\n",
       "      <td>2.09704</td>\n",
       "      <td>0.000000</td>\n",
       "    </tr>\n",
       "    <tr>\n",
       "      <th>OrgP1</th>\n",
       "      <td>12.4800</td>\n",
       "      <td>0.00000</td>\n",
       "      <td>0.478469</td>\n",
       "    </tr>\n",
       "    <tr>\n",
       "      <th>OrgP2</th>\n",
       "      <td>1.8182</td>\n",
       "      <td>0.79745</td>\n",
       "      <td>0.478469</td>\n",
       "    </tr>\n",
       "  </tbody>\n",
       "</table>\n",
       "</div>"
      ],
      "text/plain": [
       "                      C        N         P\n",
       "Cellulose      146.8900  0.00000  0.000000\n",
       "Hemicellulose   85.8550  0.00000  0.000000\n",
       "Chitin           4.9952  0.83254  0.000000\n",
       "Lignin          48.5100  0.40425  0.000000\n",
       "Starch          12.2100  0.00000  0.000000\n",
       "Protein1        10.6000  2.09704  0.000000\n",
       "Protein2        10.6000  2.09704  0.000000\n",
       "Protein3        10.6000  2.09704  0.000000\n",
       "OrgP1           12.4800  0.00000  0.478469\n",
       "OrgP2            1.8182  0.79745  0.478469"
      ]
     },
     "execution_count": 147,
     "metadata": {},
     "output_type": "execute_result"
    }
   ],
   "source": [
    "grassland = grassland.loc[new_index,:]\n",
    "grassland"
   ]
  },
  {
   "cell_type": "code",
   "execution_count": 148,
   "metadata": {},
   "outputs": [
    {
     "name": "stdout",
     "output_type": "stream",
     "text": [
      "C_percent = 0.9737670142172284\n",
      "N_percent = 0.02352855408396238\n",
      "C_N_ratio = 41.386606705295634\n"
     ]
    }
   ],
   "source": [
    "C_percent = sum(grassland['C'])/grassland.sum().sum()\n",
    "N_percent = sum(grassland['N'])/grassland.sum().sum()\n",
    "C_N_ratio = sum(grassland['C'])/sum(grassland['N'])\n",
    "print('C_percent =',C_percent)\n",
    "print('N_percent =',N_percent)\n",
    "print('C_N_ratio =',C_N_ratio)"
   ]
  },
  {
   "cell_type": "code",
   "execution_count": 149,
   "metadata": {},
   "outputs": [
    {
     "data": {
      "text/html": [
       "<div>\n",
       "<style scoped>\n",
       "    .dataframe tbody tr th:only-of-type {\n",
       "        vertical-align: middle;\n",
       "    }\n",
       "\n",
       "    .dataframe tbody tr th {\n",
       "        vertical-align: top;\n",
       "    }\n",
       "\n",
       "    .dataframe thead th {\n",
       "        text-align: right;\n",
       "    }\n",
       "</style>\n",
       "<table border=\"1\" class=\"dataframe\">\n",
       "  <thead>\n",
       "    <tr style=\"text-align: right;\">\n",
       "      <th></th>\n",
       "      <th>C</th>\n",
       "      <th>N</th>\n",
       "      <th>P</th>\n",
       "      <th>total</th>\n",
       "      <th>percent</th>\n",
       "    </tr>\n",
       "  </thead>\n",
       "  <tbody>\n",
       "    <tr>\n",
       "      <th>Cellulose</th>\n",
       "      <td>146.8900</td>\n",
       "      <td>0.00000</td>\n",
       "      <td>0.000000</td>\n",
       "      <td>146.890000</td>\n",
       "      <td>41.513031</td>\n",
       "    </tr>\n",
       "    <tr>\n",
       "      <th>Hemicellulose</th>\n",
       "      <td>85.8550</td>\n",
       "      <td>0.00000</td>\n",
       "      <td>0.000000</td>\n",
       "      <td>85.855000</td>\n",
       "      <td>24.263744</td>\n",
       "    </tr>\n",
       "    <tr>\n",
       "      <th>Chitin</th>\n",
       "      <td>4.9952</td>\n",
       "      <td>0.83254</td>\n",
       "      <td>0.000000</td>\n",
       "      <td>5.827740</td>\n",
       "      <td>1.646995</td>\n",
       "    </tr>\n",
       "    <tr>\n",
       "      <th>Lignin</th>\n",
       "      <td>48.5100</td>\n",
       "      <td>0.40425</td>\n",
       "      <td>0.000000</td>\n",
       "      <td>48.914250</td>\n",
       "      <td>13.823806</td>\n",
       "    </tr>\n",
       "    <tr>\n",
       "      <th>Starch</th>\n",
       "      <td>12.2100</td>\n",
       "      <td>0.00000</td>\n",
       "      <td>0.000000</td>\n",
       "      <td>12.210000</td>\n",
       "      <td>3.450705</td>\n",
       "    </tr>\n",
       "    <tr>\n",
       "      <th>Protein1</th>\n",
       "      <td>10.6000</td>\n",
       "      <td>2.09704</td>\n",
       "      <td>0.000000</td>\n",
       "      <td>12.697040</td>\n",
       "      <td>3.588349</td>\n",
       "    </tr>\n",
       "    <tr>\n",
       "      <th>Protein2</th>\n",
       "      <td>10.6000</td>\n",
       "      <td>2.09704</td>\n",
       "      <td>0.000000</td>\n",
       "      <td>12.697040</td>\n",
       "      <td>3.588349</td>\n",
       "    </tr>\n",
       "    <tr>\n",
       "      <th>Protein3</th>\n",
       "      <td>10.6000</td>\n",
       "      <td>2.09704</td>\n",
       "      <td>0.000000</td>\n",
       "      <td>12.697040</td>\n",
       "      <td>3.588349</td>\n",
       "    </tr>\n",
       "    <tr>\n",
       "      <th>OrgP1</th>\n",
       "      <td>12.4800</td>\n",
       "      <td>0.00000</td>\n",
       "      <td>0.478469</td>\n",
       "      <td>12.958469</td>\n",
       "      <td>3.662232</td>\n",
       "    </tr>\n",
       "    <tr>\n",
       "      <th>OrgP2</th>\n",
       "      <td>1.8182</td>\n",
       "      <td>0.79745</td>\n",
       "      <td>0.478469</td>\n",
       "      <td>3.094119</td>\n",
       "      <td>0.874438</td>\n",
       "    </tr>\n",
       "  </tbody>\n",
       "</table>\n",
       "</div>"
      ],
      "text/plain": [
       "                      C        N         P       total    percent\n",
       "Cellulose      146.8900  0.00000  0.000000  146.890000  41.513031\n",
       "Hemicellulose   85.8550  0.00000  0.000000   85.855000  24.263744\n",
       "Chitin           4.9952  0.83254  0.000000    5.827740   1.646995\n",
       "Lignin          48.5100  0.40425  0.000000   48.914250  13.823806\n",
       "Starch          12.2100  0.00000  0.000000   12.210000   3.450705\n",
       "Protein1        10.6000  2.09704  0.000000   12.697040   3.588349\n",
       "Protein2        10.6000  2.09704  0.000000   12.697040   3.588349\n",
       "Protein3        10.6000  2.09704  0.000000   12.697040   3.588349\n",
       "OrgP1           12.4800  0.00000  0.478469   12.958469   3.662232\n",
       "OrgP2            1.8182  0.79745  0.478469    3.094119   0.874438"
      ]
     },
     "execution_count": 149,
     "metadata": {},
     "output_type": "execute_result"
    }
   ],
   "source": [
    "grassland0 = grassland.copy()\n",
    "grassland0.loc[:,'total'] = grassland0.sum(axis=1)\n",
    "grassland0.loc[:,'percent'] = 100*grassland0['total']/sum(grassland0['total'])\n",
    "grassland0"
   ]
  },
  {
   "cell_type": "markdown",
   "metadata": {},
   "source": [
    "#### Substrates' stochiometry"
   ]
  },
  {
   "cell_type": "code",
   "execution_count": 150,
   "metadata": {},
   "outputs": [
    {
     "data": {
      "text/html": [
       "<div>\n",
       "<style scoped>\n",
       "    .dataframe tbody tr th:only-of-type {\n",
       "        vertical-align: middle;\n",
       "    }\n",
       "\n",
       "    .dataframe tbody tr th {\n",
       "        vertical-align: top;\n",
       "    }\n",
       "\n",
       "    .dataframe thead th {\n",
       "        text-align: right;\n",
       "    }\n",
       "</style>\n",
       "<table border=\"1\" class=\"dataframe\">\n",
       "  <thead>\n",
       "    <tr style=\"text-align: right;\">\n",
       "      <th></th>\n",
       "      <th>C</th>\n",
       "      <th>N</th>\n",
       "      <th>P</th>\n",
       "    </tr>\n",
       "  </thead>\n",
       "  <tbody>\n",
       "    <tr>\n",
       "      <th>Cellulose</th>\n",
       "      <td>1.000000</td>\n",
       "      <td>0.000000</td>\n",
       "      <td>0.000000</td>\n",
       "    </tr>\n",
       "    <tr>\n",
       "      <th>Hemicellulose</th>\n",
       "      <td>1.000000</td>\n",
       "      <td>0.000000</td>\n",
       "      <td>0.000000</td>\n",
       "    </tr>\n",
       "    <tr>\n",
       "      <th>Chitin</th>\n",
       "      <td>0.857142</td>\n",
       "      <td>0.142858</td>\n",
       "      <td>0.000000</td>\n",
       "    </tr>\n",
       "    <tr>\n",
       "      <th>Lignin</th>\n",
       "      <td>0.991736</td>\n",
       "      <td>0.008264</td>\n",
       "      <td>0.000000</td>\n",
       "    </tr>\n",
       "    <tr>\n",
       "      <th>Starch</th>\n",
       "      <td>1.000000</td>\n",
       "      <td>0.000000</td>\n",
       "      <td>0.000000</td>\n",
       "    </tr>\n",
       "    <tr>\n",
       "      <th>Protein1</th>\n",
       "      <td>0.834840</td>\n",
       "      <td>0.165160</td>\n",
       "      <td>0.000000</td>\n",
       "    </tr>\n",
       "    <tr>\n",
       "      <th>Protein2</th>\n",
       "      <td>0.834840</td>\n",
       "      <td>0.165160</td>\n",
       "      <td>0.000000</td>\n",
       "    </tr>\n",
       "    <tr>\n",
       "      <th>Protein3</th>\n",
       "      <td>0.834840</td>\n",
       "      <td>0.165160</td>\n",
       "      <td>0.000000</td>\n",
       "    </tr>\n",
       "    <tr>\n",
       "      <th>OrgP1</th>\n",
       "      <td>0.963077</td>\n",
       "      <td>0.000000</td>\n",
       "      <td>0.036923</td>\n",
       "    </tr>\n",
       "    <tr>\n",
       "      <th>OrgP2</th>\n",
       "      <td>0.587631</td>\n",
       "      <td>0.257731</td>\n",
       "      <td>0.154638</td>\n",
       "    </tr>\n",
       "  </tbody>\n",
       "</table>\n",
       "</div>"
      ],
      "text/plain": [
       "                      C         N         P\n",
       "Cellulose      1.000000  0.000000  0.000000\n",
       "Hemicellulose  1.000000  0.000000  0.000000\n",
       "Chitin         0.857142  0.142858  0.000000\n",
       "Lignin         0.991736  0.008264  0.000000\n",
       "Starch         1.000000  0.000000  0.000000\n",
       "Protein1       0.834840  0.165160  0.000000\n",
       "Protein2       0.834840  0.165160  0.000000\n",
       "Protein3       0.834840  0.165160  0.000000\n",
       "OrgP1          0.963077  0.000000  0.036923\n",
       "OrgP2          0.587631  0.257731  0.154638"
      ]
     },
     "execution_count": 150,
     "metadata": {},
     "output_type": "execute_result"
    }
   ],
   "source": [
    "ratio = grassland.divide(grassland0['total'],axis=0)\n",
    "ratio"
   ]
  },
  {
   "cell_type": "code",
   "execution_count": 151,
   "metadata": {},
   "outputs": [
    {
     "data": {
      "text/plain": [
       "Cellulose        41.513031\n",
       "Hemicellulose    24.263744\n",
       "Chitin            1.646995\n",
       "Lignin           13.823806\n",
       "Starch            3.450705\n",
       "Protein1          3.588349\n",
       "Protein2          3.588349\n",
       "Protein3          3.588349\n",
       "OrgP1             3.662232\n",
       "OrgP2             0.874438\n",
       "Name: percent, dtype: float64"
      ]
     },
     "execution_count": 151,
     "metadata": {},
     "output_type": "execute_result"
    }
   ],
   "source": [
    "grass_per = grassland0['percent']\n",
    "grass_per"
   ]
  },
  {
   "cell_type": "markdown",
   "metadata": {},
   "source": [
    "## **`Scrubland`**"
   ]
  },
  {
   "cell_type": "code",
   "execution_count": 153,
   "metadata": {},
   "outputs": [],
   "source": [
    "cellulose     = - 0.4 * grass_per['Cellulose']\n",
    "hemicellulose = - 0.4 * grass_per['Hemicellulose']"
   ]
  },
  {
   "cell_type": "code",
   "execution_count": 154,
   "metadata": {},
   "outputs": [
    {
     "data": {
      "text/plain": [
       "26.310710024656352"
      ]
     },
     "execution_count": 154,
     "metadata": {},
     "output_type": "execute_result"
    }
   ],
   "source": [
    "reduction = abs(cellulose + hemicellulose)\n",
    "reduction"
   ]
  },
  {
   "cell_type": "code",
   "execution_count": 155,
   "metadata": {},
   "outputs": [
    {
     "data": {
      "text/plain": [
       "[2.631071002465635,\n",
       " 2.631071002465635,\n",
       " 7.893213007396906,\n",
       " 2.631071002465635,\n",
       " 2.631071002465635,\n",
       " 2.631071002465635,\n",
       " 5.26214200493127,\n",
       " 0.0]"
      ]
     },
     "execution_count": 155,
     "metadata": {},
     "output_type": "execute_result"
    }
   ],
   "source": [
    "increase = [reduction * i for i in [0.1,0.1,0.3,0.1,0.1,0.1,0.2,0.0]]\n",
    "increase"
   ]
  },
  {
   "cell_type": "code",
   "execution_count": 156,
   "metadata": {},
   "outputs": [
    {
     "data": {
      "text/plain": [
       "[-16.605212552457715,\n",
       " -9.705497472198635,\n",
       " 2.631071002465635,\n",
       " 2.631071002465635,\n",
       " 7.893213007396906,\n",
       " 2.631071002465635,\n",
       " 2.631071002465635,\n",
       " 2.631071002465635,\n",
       " 5.26214200493127,\n",
       " 0.0]"
      ]
     },
     "execution_count": 156,
     "metadata": {},
     "output_type": "execute_result"
    }
   ],
   "source": [
    "change = [cellulose,hemicellulose] + increase\n",
    "change"
   ]
  },
  {
   "cell_type": "code",
   "execution_count": 157,
   "metadata": {},
   "outputs": [
    {
     "data": {
      "text/plain": [
       "Cellulose       -16.605213\n",
       "Hemicellulose    -9.705497\n",
       "Chitin            2.631071\n",
       "Lignin            2.631071\n",
       "Starch            7.893213\n",
       "Protein1          2.631071\n",
       "Protein2          2.631071\n",
       "Protein3          2.631071\n",
       "OrgP1             5.262142\n",
       "OrgP2             0.000000\n",
       "dtype: float64"
      ]
     },
     "execution_count": 157,
     "metadata": {},
     "output_type": "execute_result"
    }
   ],
   "source": [
    "change_series = pd.Series(data=change, index = grassland.index)\n",
    "change_series"
   ]
  },
  {
   "cell_type": "code",
   "execution_count": 158,
   "metadata": {},
   "outputs": [
    {
     "data": {
      "text/plain": [
       "Cellulose        0.249078\n",
       "Hemicellulose    0.145582\n",
       "Chitin           0.042781\n",
       "Lignin           0.164549\n",
       "Starch           0.113439\n",
       "Protein1         0.062194\n",
       "Protein2         0.062194\n",
       "Protein3         0.062194\n",
       "OrgP1            0.089244\n",
       "OrgP2            0.008744\n",
       "dtype: float64"
      ]
     },
     "execution_count": 158,
     "metadata": {},
     "output_type": "execute_result"
    }
   ],
   "source": [
    "scrubland_percent = (grassland0['percent'] + change_series) * 0.01\n",
    "scrubland_percent"
   ]
  },
  {
   "cell_type": "code",
   "execution_count": 159,
   "metadata": {},
   "outputs": [
    {
     "data": {
      "text/plain": [
       "0.9999999999999999"
      ]
     },
     "execution_count": 159,
     "metadata": {},
     "output_type": "execute_result"
    }
   ],
   "source": [
    "sum(scrubland_percent)"
   ]
  },
  {
   "cell_type": "code",
   "execution_count": 160,
   "metadata": {},
   "outputs": [
    {
     "data": {
      "text/plain": [
       "353.840698"
      ]
     },
     "execution_count": 160,
     "metadata": {},
     "output_type": "execute_result"
    }
   ],
   "source": [
    "scrubland_input = sum(grassland0['total'])\n",
    "scrubland_input"
   ]
  },
  {
   "cell_type": "code",
   "execution_count": 161,
   "metadata": {},
   "outputs": [
    {
     "data": {
      "text/html": [
       "<div>\n",
       "<style scoped>\n",
       "    .dataframe tbody tr th:only-of-type {\n",
       "        vertical-align: middle;\n",
       "    }\n",
       "\n",
       "    .dataframe tbody tr th {\n",
       "        vertical-align: top;\n",
       "    }\n",
       "\n",
       "    .dataframe thead th {\n",
       "        text-align: right;\n",
       "    }\n",
       "</style>\n",
       "<table border=\"1\" class=\"dataframe\">\n",
       "  <thead>\n",
       "    <tr style=\"text-align: right;\">\n",
       "      <th></th>\n",
       "      <th>C</th>\n",
       "      <th>N</th>\n",
       "      <th>P</th>\n",
       "    </tr>\n",
       "  </thead>\n",
       "  <tbody>\n",
       "    <tr>\n",
       "      <th>Cellulose</th>\n",
       "      <td>88.134000</td>\n",
       "      <td>0.000000</td>\n",
       "      <td>0.000000</td>\n",
       "    </tr>\n",
       "    <tr>\n",
       "      <th>Hemicellulose</th>\n",
       "      <td>51.513000</td>\n",
       "      <td>0.000000</td>\n",
       "      <td>0.000000</td>\n",
       "    </tr>\n",
       "    <tr>\n",
       "      <th>Chitin</th>\n",
       "      <td>12.975019</td>\n",
       "      <td>2.162521</td>\n",
       "      <td>0.000000</td>\n",
       "    </tr>\n",
       "    <tr>\n",
       "      <th>Lignin</th>\n",
       "      <td>57.742860</td>\n",
       "      <td>0.481190</td>\n",
       "      <td>0.000000</td>\n",
       "    </tr>\n",
       "    <tr>\n",
       "      <th>Starch</th>\n",
       "      <td>40.139400</td>\n",
       "      <td>0.000000</td>\n",
       "      <td>0.000000</td>\n",
       "    </tr>\n",
       "    <tr>\n",
       "      <th>Protein1</th>\n",
       "      <td>18.372196</td>\n",
       "      <td>3.634644</td>\n",
       "      <td>0.000000</td>\n",
       "    </tr>\n",
       "    <tr>\n",
       "      <th>Protein2</th>\n",
       "      <td>18.372196</td>\n",
       "      <td>3.634644</td>\n",
       "      <td>0.000000</td>\n",
       "    </tr>\n",
       "    <tr>\n",
       "      <th>Protein3</th>\n",
       "      <td>18.372196</td>\n",
       "      <td>3.634644</td>\n",
       "      <td>0.000000</td>\n",
       "    </tr>\n",
       "    <tr>\n",
       "      <th>OrgP1</th>\n",
       "      <td>30.412104</td>\n",
       "      <td>0.000000</td>\n",
       "      <td>1.165965</td>\n",
       "    </tr>\n",
       "    <tr>\n",
       "      <th>OrgP2</th>\n",
       "      <td>1.818200</td>\n",
       "      <td>0.797450</td>\n",
       "      <td>0.478469</td>\n",
       "    </tr>\n",
       "  </tbody>\n",
       "</table>\n",
       "</div>"
      ],
      "text/plain": [
       "                       C         N         P\n",
       "Cellulose      88.134000  0.000000  0.000000\n",
       "Hemicellulose  51.513000  0.000000  0.000000\n",
       "Chitin         12.975019  2.162521  0.000000\n",
       "Lignin         57.742860  0.481190  0.000000\n",
       "Starch         40.139400  0.000000  0.000000\n",
       "Protein1       18.372196  3.634644  0.000000\n",
       "Protein2       18.372196  3.634644  0.000000\n",
       "Protein3       18.372196  3.634644  0.000000\n",
       "OrgP1          30.412104  0.000000  1.165965\n",
       "OrgP2           1.818200  0.797450  0.478469"
      ]
     },
     "execution_count": 161,
     "metadata": {},
     "output_type": "execute_result"
    }
   ],
   "source": [
    "scrubland = ratio.mul(scrubland_input * scrubland_percent,axis=0)\n",
    "scrubland"
   ]
  },
  {
   "cell_type": "code",
   "execution_count": 162,
   "metadata": {},
   "outputs": [
    {
     "data": {
      "text/plain": [
       "23.55168760144611"
      ]
     },
     "execution_count": 162,
     "metadata": {},
     "output_type": "execute_result"
    }
   ],
   "source": [
    "C_N_ratio = sum(scrubland['C'])/sum(scrubland['N'])\n",
    "C_N_ratio"
   ]
  },
  {
   "cell_type": "markdown",
   "metadata": {},
   "source": [
    "## `desert`"
   ]
  },
  {
   "cell_type": "code",
   "execution_count": 163,
   "metadata": {},
   "outputs": [],
   "source": [
    "cellulose     = - 0.6 * grass_per['Cellulose']\n",
    "hemicellulose = - 0.6 * grass_per['Hemicellulose']"
   ]
  },
  {
   "cell_type": "code",
   "execution_count": 164,
   "metadata": {},
   "outputs": [
    {
     "data": {
      "text/plain": [
       "39.466065036984524"
      ]
     },
     "execution_count": 164,
     "metadata": {},
     "output_type": "execute_result"
    }
   ],
   "source": [
    "reduction = abs(cellulose + hemicellulose)\n",
    "reduction"
   ]
  },
  {
   "cell_type": "code",
   "execution_count": 165,
   "metadata": {},
   "outputs": [
    {
     "data": {
      "text/plain": [
       "[3.946606503698453,\n",
       " 3.946606503698453,\n",
       " 11.839819511095357,\n",
       " 3.946606503698453,\n",
       " 3.946606503698453,\n",
       " 3.946606503698453,\n",
       " 7.893213007396906,\n",
       " 0.0]"
      ]
     },
     "execution_count": 165,
     "metadata": {},
     "output_type": "execute_result"
    }
   ],
   "source": [
    "increase = [reduction * i for i in [0.1,0.1,0.3,0.1,0.1,0.1,0.2,0.0]]\n",
    "increase"
   ]
  },
  {
   "cell_type": "code",
   "execution_count": 172,
   "metadata": {},
   "outputs": [
    {
     "data": {
      "text/plain": [
       "Cellulose       -24.907819\n",
       "Hemicellulose   -14.558246\n",
       "Chitin            3.946607\n",
       "Lignin            3.946607\n",
       "Starch           11.839820\n",
       "Protein1          3.946607\n",
       "Protein2          3.946607\n",
       "Protein3          3.946607\n",
       "OrgP1             7.893213\n",
       "OrgP2             0.000000\n",
       "dtype: float64"
      ]
     },
     "execution_count": 172,
     "metadata": {},
     "output_type": "execute_result"
    }
   ],
   "source": [
    "change = [cellulose,hemicellulose] + increase\n",
    "change_series = pd.Series(data=change, index = grassland.index)\n",
    "change_series"
   ]
  },
  {
   "cell_type": "code",
   "execution_count": 173,
   "metadata": {},
   "outputs": [
    {
     "data": {
      "text/plain": [
       "Cellulose        0.166052\n",
       "Hemicellulose    0.097055\n",
       "Chitin           0.055936\n",
       "Lignin           0.177704\n",
       "Starch           0.152905\n",
       "Protein1         0.075350\n",
       "Protein2         0.075350\n",
       "Protein3         0.075350\n",
       "OrgP1            0.115554\n",
       "OrgP2            0.008744\n",
       "dtype: float64"
      ]
     },
     "execution_count": 173,
     "metadata": {},
     "output_type": "execute_result"
    }
   ],
   "source": [
    "desert_percent = (grassland0['percent'] + change_series) * 0.01\n",
    "desert_percent"
   ]
  },
  {
   "cell_type": "code",
   "execution_count": 174,
   "metadata": {},
   "outputs": [
    {
     "data": {
      "text/plain": [
       "1.0"
      ]
     },
     "execution_count": 174,
     "metadata": {},
     "output_type": "execute_result"
    }
   ],
   "source": [
    "sum(desert_percent)"
   ]
  },
  {
   "cell_type": "markdown",
   "metadata": {},
   "source": [
    "#### `desert litter input`"
   ]
  },
  {
   "cell_type": "code",
   "execution_count": 175,
   "metadata": {},
   "outputs": [
    {
     "data": {
      "text/plain": [
       "353.840698"
      ]
     },
     "execution_count": 175,
     "metadata": {},
     "output_type": "execute_result"
    }
   ],
   "source": [
    "desert_input = sum(grassland0['total'])\n",
    "desert_input"
   ]
  },
  {
   "cell_type": "code",
   "execution_count": 176,
   "metadata": {},
   "outputs": [
    {
     "data": {
      "text/html": [
       "<div>\n",
       "<style scoped>\n",
       "    .dataframe tbody tr th:only-of-type {\n",
       "        vertical-align: middle;\n",
       "    }\n",
       "\n",
       "    .dataframe tbody tr th {\n",
       "        vertical-align: top;\n",
       "    }\n",
       "\n",
       "    .dataframe thead th {\n",
       "        text-align: right;\n",
       "    }\n",
       "</style>\n",
       "<table border=\"1\" class=\"dataframe\">\n",
       "  <thead>\n",
       "    <tr style=\"text-align: right;\">\n",
       "      <th></th>\n",
       "      <th>C</th>\n",
       "      <th>N</th>\n",
       "      <th>P</th>\n",
       "    </tr>\n",
       "  </thead>\n",
       "  <tbody>\n",
       "    <tr>\n",
       "      <th>Cellulose</th>\n",
       "      <td>58.756000</td>\n",
       "      <td>0.000000</td>\n",
       "      <td>0.000000</td>\n",
       "    </tr>\n",
       "    <tr>\n",
       "      <th>Hemicellulose</th>\n",
       "      <td>34.342000</td>\n",
       "      <td>0.000000</td>\n",
       "      <td>0.000000</td>\n",
       "    </tr>\n",
       "    <tr>\n",
       "      <th>Chitin</th>\n",
       "      <td>16.964929</td>\n",
       "      <td>2.827511</td>\n",
       "      <td>0.000000</td>\n",
       "    </tr>\n",
       "    <tr>\n",
       "      <th>Lignin</th>\n",
       "      <td>62.359289</td>\n",
       "      <td>0.519661</td>\n",
       "      <td>0.000000</td>\n",
       "    </tr>\n",
       "    <tr>\n",
       "      <th>Starch</th>\n",
       "      <td>54.104100</td>\n",
       "      <td>0.000000</td>\n",
       "      <td>0.000000</td>\n",
       "    </tr>\n",
       "    <tr>\n",
       "      <th>Protein1</th>\n",
       "      <td>22.258294</td>\n",
       "      <td>4.403446</td>\n",
       "      <td>0.000000</td>\n",
       "    </tr>\n",
       "    <tr>\n",
       "      <th>Protein2</th>\n",
       "      <td>22.258294</td>\n",
       "      <td>4.403446</td>\n",
       "      <td>0.000000</td>\n",
       "    </tr>\n",
       "    <tr>\n",
       "      <th>Protein3</th>\n",
       "      <td>22.258294</td>\n",
       "      <td>4.403446</td>\n",
       "      <td>0.000000</td>\n",
       "    </tr>\n",
       "    <tr>\n",
       "      <th>OrgP1</th>\n",
       "      <td>39.378155</td>\n",
       "      <td>0.000000</td>\n",
       "      <td>1.509714</td>\n",
       "    </tr>\n",
       "    <tr>\n",
       "      <th>OrgP2</th>\n",
       "      <td>1.818200</td>\n",
       "      <td>0.797450</td>\n",
       "      <td>0.478469</td>\n",
       "    </tr>\n",
       "  </tbody>\n",
       "</table>\n",
       "</div>"
      ],
      "text/plain": [
       "                       C         N         P\n",
       "Cellulose      58.756000  0.000000  0.000000\n",
       "Hemicellulose  34.342000  0.000000  0.000000\n",
       "Chitin         16.964929  2.827511  0.000000\n",
       "Lignin         62.359289  0.519661  0.000000\n",
       "Starch         54.104100  0.000000  0.000000\n",
       "Protein1       22.258294  4.403446  0.000000\n",
       "Protein2       22.258294  4.403446  0.000000\n",
       "Protein3       22.258294  4.403446  0.000000\n",
       "OrgP1          39.378155  0.000000  1.509714\n",
       "OrgP2           1.818200  0.797450  0.478469"
      ]
     },
     "execution_count": 176,
     "metadata": {},
     "output_type": "execute_result"
    }
   ],
   "source": [
    "desert = ratio.mul(desert_input * desert_percent,axis=0)\n",
    "desert"
   ]
  },
  {
   "cell_type": "code",
   "execution_count": 177,
   "metadata": {},
   "outputs": [
    {
     "data": {
      "text/plain": [
       "19.273887044838037"
      ]
     },
     "execution_count": 177,
     "metadata": {},
     "output_type": "execute_result"
    }
   ],
   "source": [
    "C_N_ratio = sum(desert['C'])/sum(desert['N'])\n",
    "C_N_ratio"
   ]
  },
  {
   "cell_type": "markdown",
   "metadata": {},
   "source": [
    "## `Pine-oak`"
   ]
  },
  {
   "cell_type": "code",
   "execution_count": 237,
   "metadata": {},
   "outputs": [
    {
     "data": {
      "text/plain": [
       "6.577677506164088"
      ]
     },
     "execution_count": 237,
     "metadata": {},
     "output_type": "execute_result"
    }
   ],
   "source": [
    "cellulose     = 0.1 * grass_per['Cellulose']\n",
    "hemicellulose = 0.1 * grass_per['Hemicellulose']\n",
    "increase = abs(cellulose + hemicellulose)\n",
    "increase"
   ]
  },
  {
   "cell_type": "code",
   "execution_count": 238,
   "metadata": {},
   "outputs": [
    {
     "data": {
      "text/plain": [
       "[-0.6577677506164088,\n",
       " -1.3155355012328176,\n",
       " -1.3155355012328176,\n",
       " -0.6577677506164088,\n",
       " -0.6577677506164088,\n",
       " -0.6577677506164088,\n",
       " -1.3155355012328176,\n",
       " -0.0]"
      ]
     },
     "execution_count": 238,
     "metadata": {},
     "output_type": "execute_result"
    }
   ],
   "source": [
    "decrease = [increase * i for i in [-0.1,-0.2,-0.2,-0.1,-0.1,-0.1,-0.2,-0.0]]\n",
    "decrease"
   ]
  },
  {
   "cell_type": "code",
   "execution_count": 239,
   "metadata": {},
   "outputs": [
    {
     "data": {
      "text/plain": [
       "Cellulose        4.151303\n",
       "Hemicellulose    2.426374\n",
       "Chitin          -0.657768\n",
       "Lignin          -1.315536\n",
       "Starch          -1.315536\n",
       "Protein1        -0.657768\n",
       "Protein2        -0.657768\n",
       "Protein3        -0.657768\n",
       "OrgP1           -1.315536\n",
       "OrgP2           -0.000000\n",
       "dtype: float64"
      ]
     },
     "execution_count": 239,
     "metadata": {},
     "output_type": "execute_result"
    }
   ],
   "source": [
    "change = [cellulose,hemicellulose] + decrease\n",
    "change_series = pd.Series(data=change, index = grassland.index)\n",
    "change_series"
   ]
  },
  {
   "cell_type": "code",
   "execution_count": 240,
   "metadata": {},
   "outputs": [
    {
     "data": {
      "text/plain": [
       "Cellulose        0.456643\n",
       "Hemicellulose    0.266901\n",
       "Chitin           0.009892\n",
       "Lignin           0.125083\n",
       "Starch           0.021352\n",
       "Protein1         0.029306\n",
       "Protein2         0.029306\n",
       "Protein3         0.029306\n",
       "OrgP1            0.023467\n",
       "OrgP2            0.008744\n",
       "dtype: float64"
      ]
     },
     "execution_count": 240,
     "metadata": {},
     "output_type": "execute_result"
    }
   ],
   "source": [
    "pineoak_percent = (grassland0['percent'] + change_series) * 0.01\n",
    "pineoak_percent"
   ]
  },
  {
   "cell_type": "code",
   "execution_count": 241,
   "metadata": {},
   "outputs": [
    {
     "data": {
      "text/plain": [
       "1.0"
      ]
     },
     "execution_count": 241,
     "metadata": {},
     "output_type": "execute_result"
    }
   ],
   "source": [
    "sum(pineoak_percent)"
   ]
  },
  {
   "cell_type": "markdown",
   "metadata": {},
   "source": [
    "#### Pine-Oak litter input"
   ]
  },
  {
   "cell_type": "code",
   "execution_count": 242,
   "metadata": {},
   "outputs": [
    {
     "data": {
      "text/plain": [
       "353.840698"
      ]
     },
     "execution_count": 242,
     "metadata": {},
     "output_type": "execute_result"
    }
   ],
   "source": [
    "pineoak_input = sum(grassland0['total'])\n",
    "pineoak_input"
   ]
  },
  {
   "cell_type": "code",
   "execution_count": 243,
   "metadata": {},
   "outputs": [
    {
     "data": {
      "text/html": [
       "<div>\n",
       "<style scoped>\n",
       "    .dataframe tbody tr th:only-of-type {\n",
       "        vertical-align: middle;\n",
       "    }\n",
       "\n",
       "    .dataframe tbody tr th {\n",
       "        vertical-align: top;\n",
       "    }\n",
       "\n",
       "    .dataframe thead th {\n",
       "        text-align: right;\n",
       "    }\n",
       "</style>\n",
       "<table border=\"1\" class=\"dataframe\">\n",
       "  <thead>\n",
       "    <tr style=\"text-align: right;\">\n",
       "      <th></th>\n",
       "      <th>C</th>\n",
       "      <th>N</th>\n",
       "      <th>P</th>\n",
       "    </tr>\n",
       "  </thead>\n",
       "  <tbody>\n",
       "    <tr>\n",
       "      <th>Cellulose</th>\n",
       "      <td>161.579000</td>\n",
       "      <td>0.000000</td>\n",
       "      <td>0.000000</td>\n",
       "    </tr>\n",
       "    <tr>\n",
       "      <th>Hemicellulose</th>\n",
       "      <td>94.440500</td>\n",
       "      <td>0.000000</td>\n",
       "      <td>0.000000</td>\n",
       "    </tr>\n",
       "    <tr>\n",
       "      <th>Chitin</th>\n",
       "      <td>3.000245</td>\n",
       "      <td>0.500045</td>\n",
       "      <td>0.000000</td>\n",
       "    </tr>\n",
       "    <tr>\n",
       "      <th>Lignin</th>\n",
       "      <td>43.893570</td>\n",
       "      <td>0.365780</td>\n",
       "      <td>0.000000</td>\n",
       "    </tr>\n",
       "    <tr>\n",
       "      <th>Starch</th>\n",
       "      <td>7.555100</td>\n",
       "      <td>0.000000</td>\n",
       "      <td>0.000000</td>\n",
       "    </tr>\n",
       "    <tr>\n",
       "      <th>Protein1</th>\n",
       "      <td>8.656951</td>\n",
       "      <td>1.712639</td>\n",
       "      <td>0.000000</td>\n",
       "    </tr>\n",
       "    <tr>\n",
       "      <th>Protein2</th>\n",
       "      <td>8.656951</td>\n",
       "      <td>1.712639</td>\n",
       "      <td>0.000000</td>\n",
       "    </tr>\n",
       "    <tr>\n",
       "      <th>Protein3</th>\n",
       "      <td>8.656951</td>\n",
       "      <td>1.712639</td>\n",
       "      <td>0.000000</td>\n",
       "    </tr>\n",
       "    <tr>\n",
       "      <th>OrgP1</th>\n",
       "      <td>7.996974</td>\n",
       "      <td>0.000000</td>\n",
       "      <td>0.306595</td>\n",
       "    </tr>\n",
       "    <tr>\n",
       "      <th>OrgP2</th>\n",
       "      <td>1.818200</td>\n",
       "      <td>0.797450</td>\n",
       "      <td>0.478469</td>\n",
       "    </tr>\n",
       "  </tbody>\n",
       "</table>\n",
       "</div>"
      ],
      "text/plain": [
       "                        C         N         P\n",
       "Cellulose      161.579000  0.000000  0.000000\n",
       "Hemicellulose   94.440500  0.000000  0.000000\n",
       "Chitin           3.000245  0.500045  0.000000\n",
       "Lignin          43.893570  0.365780  0.000000\n",
       "Starch           7.555100  0.000000  0.000000\n",
       "Protein1         8.656951  1.712639  0.000000\n",
       "Protein2         8.656951  1.712639  0.000000\n",
       "Protein3         8.656951  1.712639  0.000000\n",
       "OrgP1            7.996974  0.000000  0.306595\n",
       "OrgP2            1.818200  0.797450  0.478469"
      ]
     },
     "execution_count": 243,
     "metadata": {},
     "output_type": "execute_result"
    }
   ],
   "source": [
    "pineoak = ratio.mul(desert_input * pineoak_percent,axis=0)\n",
    "pineoak"
   ]
  },
  {
   "cell_type": "code",
   "execution_count": 244,
   "metadata": {},
   "outputs": [
    {
     "data": {
      "text/plain": [
       "50.910851060227024"
      ]
     },
     "execution_count": 244,
     "metadata": {},
     "output_type": "execute_result"
    }
   ],
   "source": [
    "C_N_ratio = sum(pineoak['C'])/sum(pineoak['N'])\n",
    "C_N_ratio"
   ]
  },
  {
   "cell_type": "markdown",
   "metadata": {},
   "source": [
    "## `Sub-alpine`"
   ]
  },
  {
   "cell_type": "code",
   "execution_count": 196,
   "metadata": {},
   "outputs": [
    {
     "data": {
      "text/plain": [
       "65.77677506164088"
      ]
     },
     "execution_count": 196,
     "metadata": {},
     "output_type": "execute_result"
    }
   ],
   "source": [
    "grass_per['Cellulose'] + grass_per['Hemicellulose']"
   ]
  },
  {
   "cell_type": "code",
   "execution_count": 197,
   "metadata": {},
   "outputs": [
    {
     "data": {
      "text/plain": [
       "0.520293445616447"
      ]
     },
     "execution_count": 197,
     "metadata": {},
     "output_type": "execute_result"
    }
   ],
   "source": [
    "1.0/((grass_per['Cellulose'] + grass_per['Hemicellulose'])*0.01)-1.0"
   ]
  },
  {
   "cell_type": "code",
   "execution_count": 226,
   "metadata": {},
   "outputs": [
    {
     "data": {
      "text/plain": [
       "13.155355012328176"
      ]
     },
     "execution_count": 226,
     "metadata": {},
     "output_type": "execute_result"
    }
   ],
   "source": [
    "cellulose     = 0.2 * grass_per['Cellulose']\n",
    "hemicellulose = 0.2 * grass_per['Hemicellulose']\n",
    "increase = abs(cellulose + hemicellulose)\n",
    "increase"
   ]
  },
  {
   "cell_type": "code",
   "execution_count": 230,
   "metadata": {},
   "outputs": [
    {
     "data": {
      "text/plain": [
       "[-1.3155355012328176,\n",
       " -2.631071002465635,\n",
       " -2.631071002465635,\n",
       " -1.3155355012328176,\n",
       " -1.3155355012328176,\n",
       " -1.3155355012328176,\n",
       " -2.631071002465635,\n",
       " -0.0]"
      ]
     },
     "execution_count": 230,
     "metadata": {},
     "output_type": "execute_result"
    }
   ],
   "source": [
    "decrease = [increase * i for i in [-0.1,-0.2,-0.2,-0.1,-0.1,-0.1,-0.2,-0.0]]\n",
    "decrease"
   ]
  },
  {
   "cell_type": "code",
   "execution_count": 231,
   "metadata": {},
   "outputs": [
    {
     "data": {
      "text/plain": [
       "Cellulose        8.302606\n",
       "Hemicellulose    4.852749\n",
       "Chitin          -1.315536\n",
       "Lignin          -2.631071\n",
       "Starch          -2.631071\n",
       "Protein1        -1.315536\n",
       "Protein2        -1.315536\n",
       "Protein3        -1.315536\n",
       "OrgP1           -2.631071\n",
       "OrgP2           -0.000000\n",
       "dtype: float64"
      ]
     },
     "execution_count": 231,
     "metadata": {},
     "output_type": "execute_result"
    }
   ],
   "source": [
    "change = [cellulose,hemicellulose] + decrease\n",
    "change_series = pd.Series(data=change, index = grassland.index)\n",
    "change_series"
   ]
  },
  {
   "cell_type": "code",
   "execution_count": 232,
   "metadata": {},
   "outputs": [
    {
     "data": {
      "text/plain": [
       "Cellulose        0.498156\n",
       "Hemicellulose    0.291165\n",
       "Chitin           0.003315\n",
       "Lignin           0.111927\n",
       "Starch           0.008196\n",
       "Protein1         0.022728\n",
       "Protein2         0.022728\n",
       "Protein3         0.022728\n",
       "OrgP1            0.010312\n",
       "OrgP2            0.008744\n",
       "dtype: float64"
      ]
     },
     "execution_count": 232,
     "metadata": {},
     "output_type": "execute_result"
    }
   ],
   "source": [
    "subalpine_percent = (grassland0['percent'] + change_series) * 0.01\n",
    "#subalpine_percent[subalpine_percent < 0.0] = 0\n",
    "subalpine_percent"
   ]
  },
  {
   "cell_type": "code",
   "execution_count": 233,
   "metadata": {},
   "outputs": [
    {
     "data": {
      "text/plain": [
       "1.0"
      ]
     },
     "execution_count": 233,
     "metadata": {},
     "output_type": "execute_result"
    }
   ],
   "source": [
    "sum(subalpine_percent)"
   ]
  },
  {
   "cell_type": "markdown",
   "metadata": {},
   "source": [
    "### subalpine litter input"
   ]
  },
  {
   "cell_type": "code",
   "execution_count": 234,
   "metadata": {},
   "outputs": [
    {
     "data": {
      "text/plain": [
       "353.840698"
      ]
     },
     "execution_count": 234,
     "metadata": {},
     "output_type": "execute_result"
    }
   ],
   "source": [
    "subalpine_input = sum(grassland0['total'])\n",
    "subalpine_input"
   ]
  },
  {
   "cell_type": "code",
   "execution_count": 235,
   "metadata": {},
   "outputs": [
    {
     "data": {
      "text/html": [
       "<div>\n",
       "<style scoped>\n",
       "    .dataframe tbody tr th:only-of-type {\n",
       "        vertical-align: middle;\n",
       "    }\n",
       "\n",
       "    .dataframe tbody tr th {\n",
       "        vertical-align: top;\n",
       "    }\n",
       "\n",
       "    .dataframe thead th {\n",
       "        text-align: right;\n",
       "    }\n",
       "</style>\n",
       "<table border=\"1\" class=\"dataframe\">\n",
       "  <thead>\n",
       "    <tr style=\"text-align: right;\">\n",
       "      <th></th>\n",
       "      <th>C</th>\n",
       "      <th>N</th>\n",
       "      <th>P</th>\n",
       "    </tr>\n",
       "  </thead>\n",
       "  <tbody>\n",
       "    <tr>\n",
       "      <th>Cellulose</th>\n",
       "      <td>176.268000</td>\n",
       "      <td>0.000000</td>\n",
       "      <td>0.000000</td>\n",
       "    </tr>\n",
       "    <tr>\n",
       "      <th>Hemicellulose</th>\n",
       "      <td>103.026000</td>\n",
       "      <td>0.000000</td>\n",
       "      <td>0.000000</td>\n",
       "    </tr>\n",
       "    <tr>\n",
       "      <th>Chitin</th>\n",
       "      <td>1.005290</td>\n",
       "      <td>0.167550</td>\n",
       "      <td>0.000000</td>\n",
       "    </tr>\n",
       "    <tr>\n",
       "      <th>Lignin</th>\n",
       "      <td>39.277140</td>\n",
       "      <td>0.327310</td>\n",
       "      <td>0.000000</td>\n",
       "    </tr>\n",
       "    <tr>\n",
       "      <th>Starch</th>\n",
       "      <td>2.900200</td>\n",
       "      <td>0.000000</td>\n",
       "      <td>0.000000</td>\n",
       "    </tr>\n",
       "    <tr>\n",
       "      <th>Protein1</th>\n",
       "      <td>6.713902</td>\n",
       "      <td>1.328238</td>\n",
       "      <td>0.000000</td>\n",
       "    </tr>\n",
       "    <tr>\n",
       "      <th>Protein2</th>\n",
       "      <td>6.713902</td>\n",
       "      <td>1.328238</td>\n",
       "      <td>0.000000</td>\n",
       "    </tr>\n",
       "    <tr>\n",
       "      <th>Protein3</th>\n",
       "      <td>6.713902</td>\n",
       "      <td>1.328238</td>\n",
       "      <td>0.000000</td>\n",
       "    </tr>\n",
       "    <tr>\n",
       "      <th>OrgP1</th>\n",
       "      <td>3.513948</td>\n",
       "      <td>0.000000</td>\n",
       "      <td>0.134721</td>\n",
       "    </tr>\n",
       "    <tr>\n",
       "      <th>OrgP2</th>\n",
       "      <td>1.818200</td>\n",
       "      <td>0.797450</td>\n",
       "      <td>0.478469</td>\n",
       "    </tr>\n",
       "  </tbody>\n",
       "</table>\n",
       "</div>"
      ],
      "text/plain": [
       "                        C         N         P\n",
       "Cellulose      176.268000  0.000000  0.000000\n",
       "Hemicellulose  103.026000  0.000000  0.000000\n",
       "Chitin           1.005290  0.167550  0.000000\n",
       "Lignin          39.277140  0.327310  0.000000\n",
       "Starch           2.900200  0.000000  0.000000\n",
       "Protein1         6.713902  1.328238  0.000000\n",
       "Protein2         6.713902  1.328238  0.000000\n",
       "Protein3         6.713902  1.328238  0.000000\n",
       "OrgP1            3.513948  0.000000  0.134721\n",
       "OrgP2            1.818200  0.797450  0.478469"
      ]
     },
     "execution_count": 235,
     "metadata": {},
     "output_type": "execute_result"
    }
   ],
   "source": [
    "subalpine = ratio.mul(subalpine_input * subalpine_percent,axis=0)\n",
    "subalpine"
   ]
  },
  {
   "cell_type": "code",
   "execution_count": 236,
   "metadata": {},
   "outputs": [
    {
     "data": {
      "text/plain": [
       "65.93689241083219"
      ]
     },
     "execution_count": 236,
     "metadata": {},
     "output_type": "execute_result"
    }
   ],
   "source": [
    "C_N_ratio = sum(subalpine['C'])/sum(subalpine['N'])\n",
    "C_N_ratio"
   ]
  },
  {
   "cell_type": "code",
   "execution_count": null,
   "metadata": {},
   "outputs": [],
   "source": []
  }
 ],
 "metadata": {
  "kernelspec": {
   "display_name": "Python (dement_env)",
   "language": "python",
   "name": "dement_env"
  },
  "language_info": {
   "codemirror_mode": {
    "name": "ipython",
    "version": 3
   },
   "file_extension": ".py",
   "mimetype": "text/x-python",
   "name": "python",
   "nbconvert_exporter": "python",
   "pygments_lexer": "ipython3",
   "version": "3.7.6"
  }
 },
 "nbformat": 4,
 "nbformat_minor": 4
}
